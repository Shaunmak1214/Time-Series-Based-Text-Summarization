{
 "cells": [
  {
   "cell_type": "code",
   "execution_count": 25,
   "metadata": {},
   "outputs": [],
   "source": [
    "import pandas as pd\n",
    "import numpy as np"
   ]
  },
  {
   "cell_type": "code",
   "execution_count": 26,
   "metadata": {},
   "outputs": [
    {
     "data": {
      "text/plain": [
       "Index(['question_id', 'question_type', 'question_title', 'question_body',\n",
       "       'tags', 'answer_posts'],\n",
       "      dtype='object')"
      ]
     },
     "execution_count": 26,
     "metadata": {},
     "output_type": "execute_result"
    }
   ],
   "source": [
    "df = pd.read_csv('./sosum-data/question.csv')\n",
    "df.columns"
   ]
  },
  {
   "cell_type": "code",
   "execution_count": 27,
   "metadata": {},
   "outputs": [],
   "source": [
    "# Processing answer\n",
    "# df = df.drop(['answer_id'], axis=1)"
   ]
  },
  {
   "cell_type": "code",
   "execution_count": 28,
   "metadata": {},
   "outputs": [],
   "source": [
    "# Processing question\n",
    "df = df.drop(['question_id'], axis=1)\n",
    "df = df.drop(['question_type'], axis=1)\n",
    "df = df.drop(['tags'], axis=1)\n",
    "df = df.drop(['answer_posts'], axis=1)"
   ]
  },
  {
   "cell_type": "code",
   "execution_count": 29,
   "metadata": {},
   "outputs": [
    {
     "data": {
      "text/html": [
       "<div>\n",
       "<style scoped>\n",
       "    .dataframe tbody tr th:only-of-type {\n",
       "        vertical-align: middle;\n",
       "    }\n",
       "\n",
       "    .dataframe tbody tr th {\n",
       "        vertical-align: top;\n",
       "    }\n",
       "\n",
       "    .dataframe thead th {\n",
       "        text-align: right;\n",
       "    }\n",
       "</style>\n",
       "<table border=\"1\" class=\"dataframe\">\n",
       "  <thead>\n",
       "    <tr style=\"text-align: right;\">\n",
       "      <th></th>\n",
       "      <th>question_title</th>\n",
       "      <th>question_body</th>\n",
       "    </tr>\n",
       "  </thead>\n",
       "  <tbody>\n",
       "    <tr>\n",
       "      <th>0</th>\n",
       "      <td>How to show Error &amp; Warning Message Box in .NE...</td>\n",
       "      <td>['How to show Error &amp; Warning Message Box in ....</td>\n",
       "    </tr>\n",
       "    <tr>\n",
       "      <th>1</th>\n",
       "      <td>Numpy array dimensions</td>\n",
       "      <td>['Numpy array dimensions', \"I'm currently tryi...</td>\n",
       "    </tr>\n",
       "    <tr>\n",
       "      <th>2</th>\n",
       "      <td>What are MVP and MVC and what is the difference?</td>\n",
       "      <td>['What are MVP and MVC and what is the differe...</td>\n",
       "    </tr>\n",
       "    <tr>\n",
       "      <th>3</th>\n",
       "      <td>How do I calculate someone's age in C#?</td>\n",
       "      <td>[\"How do I calculate someone's age in C#?\", \"G...</td>\n",
       "    </tr>\n",
       "    <tr>\n",
       "      <th>4</th>\n",
       "      <td>How to check if an object is a list or tuple (...</td>\n",
       "      <td>['How to check if an object is a list or tuple...</td>\n",
       "    </tr>\n",
       "    <tr>\n",
       "      <th>...</th>\n",
       "      <td>...</td>\n",
       "      <td>...</td>\n",
       "    </tr>\n",
       "    <tr>\n",
       "      <th>501</th>\n",
       "      <td>C# Syntax - Split String into Array by Comma, ...</td>\n",
       "      <td>['C# Syntax - Split String into Array by Comma...</td>\n",
       "    </tr>\n",
       "    <tr>\n",
       "      <th>502</th>\n",
       "      <td>SSL_connect returned=1 errno=0 state=SSLv3 rea...</td>\n",
       "      <td>['SSL_connect returned=1 errno=0 state=SSLv3 r...</td>\n",
       "    </tr>\n",
       "    <tr>\n",
       "      <th>503</th>\n",
       "      <td>What is JavaScript's highest integer value tha...</td>\n",
       "      <td>[\"What is JavaScript's highest integer value t...</td>\n",
       "    </tr>\n",
       "    <tr>\n",
       "      <th>504</th>\n",
       "      <td>Accept server's self-signed ssl certificate in...</td>\n",
       "      <td>[\"Accept server's self-signed ssl certificate ...</td>\n",
       "    </tr>\n",
       "    <tr>\n",
       "      <th>505</th>\n",
       "      <td>Main differences between SOAP and RESTful web ...</td>\n",
       "      <td>['Main differences between SOAP and RESTful we...</td>\n",
       "    </tr>\n",
       "  </tbody>\n",
       "</table>\n",
       "<p>506 rows × 2 columns</p>\n",
       "</div>"
      ],
      "text/plain": [
       "                                        question_title  \\\n",
       "0    How to show Error & Warning Message Box in .NE...   \n",
       "1                               Numpy array dimensions   \n",
       "2     What are MVP and MVC and what is the difference?   \n",
       "3              How do I calculate someone's age in C#?   \n",
       "4    How to check if an object is a list or tuple (...   \n",
       "..                                                 ...   \n",
       "501  C# Syntax - Split String into Array by Comma, ...   \n",
       "502  SSL_connect returned=1 errno=0 state=SSLv3 rea...   \n",
       "503  What is JavaScript's highest integer value tha...   \n",
       "504  Accept server's self-signed ssl certificate in...   \n",
       "505  Main differences between SOAP and RESTful web ...   \n",
       "\n",
       "                                         question_body  \n",
       "0    ['How to show Error & Warning Message Box in ....  \n",
       "1    ['Numpy array dimensions', \"I'm currently tryi...  \n",
       "2    ['What are MVP and MVC and what is the differe...  \n",
       "3    [\"How do I calculate someone's age in C#?\", \"G...  \n",
       "4    ['How to check if an object is a list or tuple...  \n",
       "..                                                 ...  \n",
       "501  ['C# Syntax - Split String into Array by Comma...  \n",
       "502  ['SSL_connect returned=1 errno=0 state=SSLv3 r...  \n",
       "503  [\"What is JavaScript's highest integer value t...  \n",
       "504  [\"Accept server's self-signed ssl certificate ...  \n",
       "505  ['Main differences between SOAP and RESTful we...  \n",
       "\n",
       "[506 rows x 2 columns]"
      ]
     },
     "metadata": {},
     "output_type": "display_data"
    }
   ],
   "source": [
    "display(df)"
   ]
  },
  {
   "cell_type": "code",
   "execution_count": 30,
   "metadata": {},
   "outputs": [],
   "source": [
    "# Processing answers\n",
    "# import ast\n",
    "# def transform_truth(row):\n",
    "#     answer_body = ast.literal_eval(row['answer_body'])\n",
    "#     truth_indices = row['truth']\n",
    "#     truth_indices = ast.literal_eval(truth_indices)\n",
    "#     truth_strings = [answer_body[idx] for idx in truth_indices]\n",
    "#     return ''.join(truth_strings)\n",
    "\n",
    "# # Apply the transform_truth function to the DataFrame\n",
    "# df['truth'] = df.apply(transform_truth, axis=1)\n",
    "# df['answer_body'] = df['answer_body'].apply(lambda x: ' '.join(eval(x)))\n",
    "\n",
    "# # check if truth is an array, if it is then join them together\n",
    "# df['truth'] = df['truth'].apply(lambda x: ' '.join(eval(x)) if isinstance(x, list) else x)\n",
    "\n",
    "# df = df.rename(columns={'answer_body': 'content', 'truth': 'title'})\n",
    "\n",
    "# # save this csv\n",
    "# df.to_csv('./sosum-data/processed_answer.csv', index=False)"
   ]
  },
  {
   "cell_type": "code",
   "execution_count": 31,
   "metadata": {},
   "outputs": [],
   "source": [
    "# # Processing questions\n",
    "df['question_body'] = df['question_body'].apply(lambda x: ' '.join(eval(x)))\n",
    "df = df.rename(columns={'question_body': 'content', 'question_title': 'title'})\n",
    "# save this csv\n",
    "df.to_csv('./sosum-data/processed_question.csv', index=False)"
   ]
  },
  {
   "cell_type": "code",
   "execution_count": 32,
   "metadata": {},
   "outputs": [],
   "source": [
    "import torch"
   ]
  },
  {
   "cell_type": "code",
   "execution_count": 33,
   "metadata": {},
   "outputs": [
    {
     "data": {
      "text/plain": [
       "False"
      ]
     },
     "execution_count": 33,
     "metadata": {},
     "output_type": "execute_result"
    }
   ],
   "source": [
    "torch.cuda.is_available()"
   ]
  },
  {
   "cell_type": "code",
   "execution_count": 34,
   "metadata": {},
   "outputs": [
    {
     "data": {
      "text/plain": [
       "0"
      ]
     },
     "execution_count": 34,
     "metadata": {},
     "output_type": "execute_result"
    }
   ],
   "source": [
    "torch.cuda.device_count()"
   ]
  },
  {
   "cell_type": "code",
   "execution_count": 35,
   "metadata": {},
   "outputs": [
    {
     "name": "stdout",
     "output_type": "stream",
     "text": [
      "Using device: cpu\n",
      "\n"
     ]
    }
   ],
   "source": [
    "# setting device on GPU if available, else CPU\n",
    "device = torch.device('cuda' if torch.cuda.is_available() else 'cpu')\n",
    "print('Using device:', device)\n",
    "print()\n",
    "\n",
    "#Additional Info when using cuda\n",
    "if device.type == 'cuda':\n",
    "    print(torch.cuda.get_device_name(0))\n",
    "    print('Memory Usage:')\n",
    "    print('Allocated:', round(torch.cuda.memory_allocated(0)/1024**3,1), 'GB')\n",
    "    print('Cached:   ', round(torch.cuda.memory_reserved(0)/1024**3,1), 'GB')"
   ]
  }
 ],
 "metadata": {
  "kernelspec": {
   "display_name": "Python 3",
   "language": "python",
   "name": "python3"
  },
  "language_info": {
   "codemirror_mode": {
    "name": "ipython",
    "version": 3
   },
   "file_extension": ".py",
   "mimetype": "text/x-python",
   "name": "python",
   "nbconvert_exporter": "python",
   "pygments_lexer": "ipython3",
   "version": "3.11.4"
  },
  "orig_nbformat": 4
 },
 "nbformat": 4,
 "nbformat_minor": 2
}
