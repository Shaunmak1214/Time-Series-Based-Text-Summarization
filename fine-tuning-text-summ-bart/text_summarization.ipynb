{
  "cells": [
    {
      "cell_type": "code",
      "execution_count": 1,
      "metadata": {
        "id": "V12cQy2jUg2s"
      },
      "outputs": [],
      "source": [
        "!pip install ohmeow-blurr -q\n",
        "!pip install bert-score -q"
      ]
    },
    {
      "cell_type": "code",
      "execution_count": 2,
      "metadata": {},
      "outputs": [],
      "source": [
        "# !pip install pytest"
      ]
    },
    {
      "cell_type": "code",
      "execution_count": 3,
      "metadata": {
        "id": "YJBFQYqD6_0a"
      },
      "outputs": [
        {
          "name": "stderr",
          "output_type": "stream",
          "text": [
            "C:\\Users\\User\\AppData\\Local\\Packages\\PythonSoftwareFoundation.Python.3.11_qbz5n2kfra8p0\\LocalCache\\local-packages\\Python311\\site-packages\\transformers\\generation_utils.py:24: FutureWarning: Importing `GenerationMixin` from `src/transformers/generation_utils.py` is deprecated and will be removed in Transformers v5. Import as `from transformers import GenerationMixin` instead.\n",
            "  warnings.warn(\n",
            "C:\\Users\\User\\AppData\\Local\\Packages\\PythonSoftwareFoundation.Python.3.11_qbz5n2kfra8p0\\LocalCache\\local-packages\\Python311\\site-packages\\torchaudio\\backend\\utils.py:74: UserWarning: No audio backend is available.\n",
            "  warnings.warn(\"No audio backend is available.\")\n",
            "Xformers is not installed correctly. If you want to use memory_efficient_attention to accelerate training use the following command to install Xformers\n",
            "pip install xformers.\n"
          ]
        }
      ],
      "source": [
        "import pandas as pd\n",
        "from fastai.text.all import *\n",
        "from transformers import *\n",
        "from blurr.data.all import *\n",
        "from blurr.modeling.all import *"
      ]
    },
    {
      "cell_type": "code",
      "execution_count": 4,
      "metadata": {
        "id": "y-U1uyXi7SrH"
      },
      "outputs": [],
      "source": [
        "df = pd.read_csv('./sosum-data/processed_combined_data.csv', sep=',')\n",
        "df = df.dropna().reset_index()"
      ]
    },
    {
      "cell_type": "code",
      "execution_count": 5,
      "metadata": {
        "colab": {
          "base_uri": "https://localhost:8080/",
          "height": 0
        },
        "collapsed": true,
        "id": "U4l3LFobCgtS",
        "outputId": "c14e1dd9-b1cd-4d4c-f5ef-0f80946580dd"
      },
      "outputs": [
        {
          "data": {
            "text/html": [
              "<div>\n",
              "<style scoped>\n",
              "    .dataframe tbody tr th:only-of-type {\n",
              "        vertical-align: middle;\n",
              "    }\n",
              "\n",
              "    .dataframe tbody tr th {\n",
              "        vertical-align: top;\n",
              "    }\n",
              "\n",
              "    .dataframe thead th {\n",
              "        text-align: right;\n",
              "    }\n",
              "</style>\n",
              "<table border=\"1\" class=\"dataframe\">\n",
              "  <thead>\n",
              "    <tr style=\"text-align: right;\">\n",
              "      <th></th>\n",
              "      <th>index</th>\n",
              "      <th>content</th>\n",
              "      <th>title</th>\n",
              "    </tr>\n",
              "  </thead>\n",
              "  <tbody>\n",
              "    <tr>\n",
              "      <th>0</th>\n",
              "      <td>0</td>\n",
              "      <td>&lt;em&gt;Note, this answer is for Python 2.x as it was written in 2008, metaclasses are slightly different in 3.x, see the comments.&lt;em&gt; Metaclasses are the secret sauce that make 'class' work. The default metaclass for a new style object is called 'type'. Metaclasses take 3 args. '&lt;strong&gt;name&lt;strong&gt;', '&lt;strong&gt;bases&lt;strong&gt;' and '&lt;strong&gt;dict&lt;strong&gt;' Here is where the secret starts. Look for where name, bases and the dict come from in this example class definition. Lets define a metaclass that will demonstrate how '&lt;strong&gt;class:&lt;strong&gt;' calls it. And now, an example that actually means so...</td>\n",
              "      <td>Metaclasses are the secret sauce that make 'class' work.The default metaclass for a new style object is called 'type'.Metaclasses take 3 args.'&lt;strong&gt;name&lt;/strong&gt;', '&lt;strong&gt;bases&lt;/strong&gt;' and '&lt;strong&gt;dict&lt;/strong&gt;'</td>\n",
              "    </tr>\n",
              "    <tr>\n",
              "      <th>1</th>\n",
              "      <td>1</td>\n",
              "      <td>I think the ONLamp introduction to metaclass programming is well written and gives a really good introduction to the topic despite being several years old already. http:www.onlamp.compubapython20030417metaclasses.html (archived at https:web.archive.orgweb20080206005253http:www.onlamp.compubapython20030417metaclasses.html) In short: A class is a blueprint for the creation of an instance, a metaclass is a blueprint for the creation of a class. It can be easily seen that in Python classes need to be first-class objects too to enable this behavior. I've never written one myself, but I think on...</td>\n",
              "      <td>In short: A class is a blueprint for the creation of an instance, a metaclass is a blueprint for the creation of a class.</td>\n",
              "    </tr>\n",
              "    <tr>\n",
              "      <th>2</th>\n",
              "      <td>2</td>\n",
              "      <td>One use for metaclasses is adding new properties and methods to an instance automatically. For example, if you look at Django models, their definition looks a bit confusing. It looks as if you are only defining class properties: However, at runtime the Person objects are filled with all sorts of useful methods. See the source for some amazing metaclassery.</td>\n",
              "      <td>One use for metaclasses is adding new properties and methods to an instance automatically.</td>\n",
              "    </tr>\n",
              "    <tr>\n",
              "      <th>3</th>\n",
              "      <td>3</td>\n",
              "      <td>A metaclass is the class of a class. Like a class defines how an instance of the class behaves, a metaclass defines how a class behaves. A class is an instance of a metaclass. While in Python you can use arbitrary callables for metaclasses (like Jerub shows), the more useful approach is actually to make it an actual class itself. &lt;code&gt;type&lt;code&gt; is the usual metaclass in Python. In case you're wondering, yes, &lt;code&gt;type&lt;code&gt; is itself a class, and it is its own type. You won't be able to recreate something like &lt;code&gt;type&lt;code&gt; purely in Python, but Python cheats a little. To create your...</td>\n",
              "      <td>A metaclass is the class of a class.Like a class defines how an instance of the class behaves, a metaclass defines how a class behaves.A class is an instance of a metaclass.To create your own metaclass in Python you really just want to subclass &lt;code&gt;type&lt;/code&gt;.The metaclass is determined by looking at the baseclasses of the class-to-be (metaclasses are inherited), at the &lt;code&gt;__metaclass__&lt;/code&gt; attribute of the class-to-be (if any) or the &lt;code&gt;__metaclass__&lt;/code&gt; global variable.</td>\n",
              "    </tr>\n",
              "    <tr>\n",
              "      <th>4</th>\n",
              "      <td>4</td>\n",
              "      <td>&lt;strong&gt;Main messages :)&lt;strong&gt; De-cyphered: The Zen of Python, by Tim Peters Beautiful is better than ugly. Explicit is better than implicit. Simple is better than complex. Complex is better than complicated. Flat is better than nested. Sparse is better than dense. Readability counts. Special cases aren't special enough to break the rules. Although practicality beats purity. Errors should never pass silently. Unless explicitly silenced. In the face of ambiguity, refuse the temptation to guess. There should be one-- and preferably only one --obvious way to do it. Although that way may not...</td>\n",
              "      <td>The Zen of Python, by Tim Peters</td>\n",
              "    </tr>\n",
              "  </tbody>\n",
              "</table>\n",
              "</div>"
            ],
            "text/plain": [
              "   index  \\\n",
              "0      0   \n",
              "1      1   \n",
              "2      2   \n",
              "3      3   \n",
              "4      4   \n",
              "\n",
              "                                                                                                                                                                                                                                                                                                                                                                                                                                                                                                                                                                                                                   content  \\\n",
              "0  <em>Note, this answer is for Python 2.x as it was written in 2008, metaclasses are slightly different in 3.x, see the comments.<em> Metaclasses are the secret sauce that make 'class' work. The default metaclass for a new style object is called 'type'. Metaclasses take 3 args. '<strong>name<strong>', '<strong>bases<strong>' and '<strong>dict<strong>' Here is where the secret starts. Look for where name, bases and the dict come from in this example class definition. Lets define a metaclass that will demonstrate how '<strong>class:<strong>' calls it. And now, an example that actually means so...   \n",
              "1  I think the ONLamp introduction to metaclass programming is well written and gives a really good introduction to the topic despite being several years old already. http:www.onlamp.compubapython20030417metaclasses.html (archived at https:web.archive.orgweb20080206005253http:www.onlamp.compubapython20030417metaclasses.html) In short: A class is a blueprint for the creation of an instance, a metaclass is a blueprint for the creation of a class. It can be easily seen that in Python classes need to be first-class objects too to enable this behavior. I've never written one myself, but I think on...   \n",
              "2                                                                                                                                                                                                                                                   One use for metaclasses is adding new properties and methods to an instance automatically. For example, if you look at Django models, their definition looks a bit confusing. It looks as if you are only defining class properties: However, at runtime the Person objects are filled with all sorts of useful methods. See the source for some amazing metaclassery.   \n",
              "3  A metaclass is the class of a class. Like a class defines how an instance of the class behaves, a metaclass defines how a class behaves. A class is an instance of a metaclass. While in Python you can use arbitrary callables for metaclasses (like Jerub shows), the more useful approach is actually to make it an actual class itself. <code>type<code> is the usual metaclass in Python. In case you're wondering, yes, <code>type<code> is itself a class, and it is its own type. You won't be able to recreate something like <code>type<code> purely in Python, but Python cheats a little. To create your...   \n",
              "4  <strong>Main messages :)<strong> De-cyphered: The Zen of Python, by Tim Peters Beautiful is better than ugly. Explicit is better than implicit. Simple is better than complex. Complex is better than complicated. Flat is better than nested. Sparse is better than dense. Readability counts. Special cases aren't special enough to break the rules. Although practicality beats purity. Errors should never pass silently. Unless explicitly silenced. In the face of ambiguity, refuse the temptation to guess. There should be one-- and preferably only one --obvious way to do it. Although that way may not...   \n",
              "\n",
              "                                                                                                                                                                                                                                                                                                                                                                                                                                                                                                         title  \n",
              "0                                                                                                                                                                                                                                                                                  Metaclasses are the secret sauce that make 'class' work.The default metaclass for a new style object is called 'type'.Metaclasses take 3 args.'<strong>name</strong>', '<strong>bases</strong>' and '<strong>dict</strong>'  \n",
              "1                                                                                                                                                                                                                                                                                                                                                                                    In short: A class is a blueprint for the creation of an instance, a metaclass is a blueprint for the creation of a class.  \n",
              "2                                                                                                                                                                                                                                                                                                                                                                                                                   One use for metaclasses is adding new properties and methods to an instance automatically.  \n",
              "3  A metaclass is the class of a class.Like a class defines how an instance of the class behaves, a metaclass defines how a class behaves.A class is an instance of a metaclass.To create your own metaclass in Python you really just want to subclass <code>type</code>.The metaclass is determined by looking at the baseclasses of the class-to-be (metaclasses are inherited), at the <code>__metaclass__</code> attribute of the class-to-be (if any) or the <code>__metaclass__</code> global variable.  \n",
              "4                                                                                                                                                                                                                                                                                                                                                                                                                                                                             The Zen of Python, by Tim Peters  "
            ]
          },
          "execution_count": 5,
          "metadata": {},
          "output_type": "execute_result"
        }
      ],
      "source": [
        "#Clean text\n",
        "df['content'] = df['content'].apply(lambda x: x.replace('/',''))\n",
        "df['content'] = df['content'].apply(lambda x: x.replace('\\xa0',''))\n",
        "df.head()"
      ]
    },
    {
      "cell_type": "code",
      "execution_count": 6,
      "metadata": {
        "id": "YfzklGDRiC6q"
      },
      "outputs": [],
      "source": [
        "#Select only part of it (makes testing faster)\n",
        "articles = df"
      ]
    },
    {
      "cell_type": "code",
      "execution_count": 7,
      "metadata": {
        "id": "iX5xlpgYupO_"
      },
      "outputs": [],
      "source": [
        "#Truncate text to make it fit into the model\n",
        "#articles['content'] = articles['content'].apply(lambda x: ' '.join(x.split()[:700]))"
      ]
    },
    {
      "attachments": {},
      "cell_type": "markdown",
      "metadata": {
        "id": "rKdl8-vkyfAc"
      },
      "source": [
        "## Import model and set up data"
      ]
    },
    {
      "cell_type": "code",
      "execution_count": 8,
      "metadata": {
        "id": "mYh5-k3P-0Qc"
      },
      "outputs": [],
      "source": [
        "pretrained_model_name = \"facebook/bart-large-cnn\"\n",
        "hf_arch, hf_config, hf_tokenizer, hf_model = BLURR.get_hf_objects(pretrained_model_name, \n",
        "                                                                  model_cls=BartForConditionalGeneration)"
      ]
    },
    {
      "cell_type": "code",
      "execution_count": 9,
      "metadata": {
        "id": "jq0_5615-z8B"
      },
      "outputs": [],
      "source": [
        "#text_gen_kwargs = default_text_gen_kwargs(hf_config, hf_model, task='summarization');"
      ]
    },
    {
      "cell_type": "code",
      "execution_count": 10,
      "metadata": {
        "id": "HKng4TVLU3SR"
      },
      "outputs": [],
      "source": [
        "hf_batch_tfm = HF_Seq2SeqBeforeBatchTransform(hf_arch, hf_config, hf_tokenizer, hf_model, task='summarization',\n",
        "text_gen_kwargs={'max_length': 248,\n",
        " 'min_length': 56,\n",
        " 'do_sample': False,\n",
        " 'early_stopping': True,\n",
        " 'num_beams': 4,\n",
        " 'temperature': 1.0,\n",
        " 'top_k': 50,\n",
        " 'top_p': 1.0,\n",
        " 'repetition_penalty': 1.0,\n",
        " 'bad_words_ids': None,\n",
        " 'bos_token_id': 0,\n",
        " 'pad_token_id': 1,\n",
        " 'eos_token_id': 2,\n",
        " 'length_penalty': 2.0,\n",
        " 'no_repeat_ngram_size': 3,\n",
        " 'encoder_no_repeat_ngram_size': 0,\n",
        " 'num_return_sequences': 1,\n",
        " 'decoder_start_token_id': 2,\n",
        " 'use_cache': True,\n",
        " 'num_beam_groups': 1,\n",
        " 'diversity_penalty': 0.0,\n",
        " 'output_attentions': False,\n",
        " 'output_hidden_states': False,\n",
        " 'output_scores': False,\n",
        " 'return_dict_in_generate': False,\n",
        " 'forced_bos_token_id': 0,\n",
        " 'forced_eos_token_id': 2,\n",
        " 'remove_invalid_values': False})\n",
        "\n",
        "blocks = (HF_Seq2SeqBlock(before_batch_tfm=hf_batch_tfm), noop)\n",
        "\n",
        "dblock = DataBlock(blocks=blocks, get_x=ColReader('content'), get_y=ColReader('title'), splitter=RandomSplitter())"
      ]
    },
    {
      "cell_type": "code",
      "execution_count": 11,
      "metadata": {
        "id": "7S_9MXrPU5Gu"
      },
      "outputs": [
        {
          "name": "stderr",
          "output_type": "stream",
          "text": [
            "C:\\Users\\User\\AppData\\Local\\Packages\\PythonSoftwareFoundation.Python.3.11_qbz5n2kfra8p0\\LocalCache\\local-packages\\Python311\\site-packages\\transformers\\tokenization_utils_base.py:3619: UserWarning: `as_target_tokenizer` is deprecated and will be removed in v5 of Transformers. You can tokenize your labels by using the argument `text_target` of the regular `__call__` method (either in the same call as your input texts if you use the same keyword arguments, or in a separate call.\n",
            "  warnings.warn(\n"
          ]
        }
      ],
      "source": [
        "dls = dblock.dataloaders(articles, bs=2)"
      ]
    },
    {
      "attachments": {},
      "cell_type": "markdown",
      "metadata": {
        "id": "uGXggEBiYRPt"
      },
      "source": [
        "### Training\n"
      ]
    },
    {
      "cell_type": "code",
      "execution_count": 12,
      "metadata": {
        "id": "0w_i6qmuYUSv"
      },
      "outputs": [],
      "source": [
        "seq2seq_metrics = {\n",
        "        'rouge': {\n",
        "            'compute_kwargs': { 'rouge_types': [\"rouge1\", \"rouge2\", \"rougeL\"], 'use_stemmer': True },\n",
        "            'returns': [\"rouge1\", \"rouge2\", \"rougeL\"]\n",
        "        },\n",
        "        'bertscore': {\n",
        "            'compute_kwargs': { 'lang': 'fr' },\n",
        "            'returns': [\"precision\", \"recall\", \"f1\"]\n",
        "        }\n",
        "    }"
      ]
    },
    {
      "cell_type": "code",
      "execution_count": 13,
      "metadata": {
        "id": "dXlU_OtOY5wL"
      },
      "outputs": [
        {
          "name": "stderr",
          "output_type": "stream",
          "text": [
            "C:\\Users\\User\\AppData\\Local\\Packages\\PythonSoftwareFoundation.Python.3.11_qbz5n2kfra8p0\\LocalCache\\local-packages\\Python311\\site-packages\\blurr\\modeling\\seq2seq\\core.py:42: FutureWarning: load_metric is deprecated and will be removed in the next major version of datasets. Use 'evaluate.load' instead, from the new library 🤗 Evaluate: https://huggingface.co/docs/evaluate\n",
            "  compute_func = hf_load_metric(metric_name).compute\n"
          ]
        }
      ],
      "source": [
        "model = HF_BaseModelWrapper(hf_model)\n",
        "learn_cbs = [HF_BaseModelCallback]\n",
        "fit_cbs = [HF_Seq2SeqMetricsCallback(custom_metrics=seq2seq_metrics),  Recorder()]\n",
        "\n",
        "learn = Learner(dls, \n",
        "                model,\n",
        "                opt_func=ranger,\n",
        "                loss_func=CrossEntropyLossFlat(),\n",
        "                cbs=learn_cbs,\n",
        "                splitter=partial(seq2seq_splitter, arch=hf_arch)).to_fp16()\n",
        "\n",
        "learn.create_opt() \n",
        "learn.freeze()"
      ]
    },
    {
      "cell_type": "code",
      "execution_count": 14,
      "metadata": {},
      "outputs": [
        {
          "data": {
            "text/plain": [
              "(#6) [TrainEvalCallback,Recorder,CastToTensor,ProgressCallback,HF_BaseModelCallback,MixedPrecision]"
            ]
          },
          "execution_count": 14,
          "metadata": {},
          "output_type": "execute_result"
        }
      ],
      "source": [
        "learn.cbs"
      ]
    },
    {
      "cell_type": "code",
      "execution_count": 15,
      "metadata": {
        "id": "sYYETbl_mSE5"
      },
      "outputs": [
        {
          "name": "stderr",
          "output_type": "stream",
          "text": [
            "C:\\Users\\User\\AppData\\Local\\Packages\\PythonSoftwareFoundation.Python.3.11_qbz5n2kfra8p0\\LocalCache\\local-packages\\Python311\\site-packages\\torch\\amp\\autocast_mode.py:204: UserWarning: User provided device_type of 'cuda', but CUDA is not available. Disabling\n",
            "  warnings.warn('User provided device_type of \\'cuda\\', but CUDA is not available. Disabling')\n",
            "C:\\Users\\User\\AppData\\Local\\Packages\\PythonSoftwareFoundation.Python.3.11_qbz5n2kfra8p0\\LocalCache\\local-packages\\Python311\\site-packages\\torch\\cuda\\amp\\grad_scaler.py:120: UserWarning: torch.cuda.amp.GradScaler is enabled, but CUDA is not available.  Disabling.\n",
            "  warnings.warn(\"torch.cuda.amp.GradScaler is enabled, but CUDA is not available.  Disabling.\")\n"
          ]
        },
        {
          "data": {
            "text/html": [
              "\n",
              "<style>\n",
              "    /* Turns off some styling */\n",
              "    progress {\n",
              "        /* gets rid of default border in Firefox and Opera. */\n",
              "        border: none;\n",
              "        /* Needs to be in here for Safari polyfill so background images work as expected. */\n",
              "        background-size: auto;\n",
              "    }\n",
              "    progress:not([value]), progress:not([value])::-webkit-progress-bar {\n",
              "        background: repeating-linear-gradient(45deg, #7e7e7e, #7e7e7e 10px, #5c5c5c 10px, #5c5c5c 20px);\n",
              "    }\n",
              "    .progress-bar-interrupted, .progress-bar-interrupted::-webkit-progress-bar {\n",
              "        background: #F44336;\n",
              "    }\n",
              "</style>\n"
            ],
            "text/plain": [
              "<IPython.core.display.HTML object>"
            ]
          },
          "metadata": {},
          "output_type": "display_data"
        },
        {
          "data": {
            "text/html": [
              "<table border=\"1\" class=\"dataframe\">\n",
              "  <thead>\n",
              "    <tr style=\"text-align: left;\">\n",
              "      <th>epoch</th>\n",
              "      <th>train_loss</th>\n",
              "      <th>valid_loss</th>\n",
              "      <th>rouge1</th>\n",
              "      <th>rouge2</th>\n",
              "      <th>rougeL</th>\n",
              "      <th>bertscore_precision</th>\n",
              "      <th>bertscore_recall</th>\n",
              "      <th>bertscore_f1</th>\n",
              "      <th>time</th>\n",
              "    </tr>\n",
              "  </thead>\n",
              "  <tbody>\n",
              "    <tr>\n",
              "      <td>0</td>\n",
              "      <td>0.359727</td>\n",
              "      <td>0.393375</td>\n",
              "      <td>0.472308</td>\n",
              "      <td>0.423875</td>\n",
              "      <td>0.452445</td>\n",
              "      <td>0.727543</td>\n",
              "      <td>0.860782</td>\n",
              "      <td>0.784149</td>\n",
              "      <td>1:30:33</td>\n",
              "    </tr>\n",
              "    <tr>\n",
              "      <td>0</td>\n",
              "      <td>0.359727</td>\n",
              "      <td>0.393375</td>\n",
              "      <td>0.472308</td>\n",
              "      <td>0.423875</td>\n",
              "      <td>0.452445</td>\n",
              "      <td>0.727543</td>\n",
              "      <td>0.860782</td>\n",
              "      <td>0.784149</td>\n",
              "      <td>1:30:33</td>\n",
              "    </tr>\n",
              "    <tr>\n",
              "      <td>1</td>\n",
              "      <td>0.315535</td>\n",
              "      <td>0.481088</td>\n",
              "      <td>0.461842</td>\n",
              "      <td>0.413766</td>\n",
              "      <td>0.443018</td>\n",
              "      <td>0.725496</td>\n",
              "      <td>0.852945</td>\n",
              "      <td>0.779969</td>\n",
              "      <td>1:27:03</td>\n",
              "    </tr>\n",
              "    <tr>\n",
              "      <td>1</td>\n",
              "      <td>0.315535</td>\n",
              "      <td>0.481088</td>\n",
              "      <td>0.461842</td>\n",
              "      <td>0.413766</td>\n",
              "      <td>0.443018</td>\n",
              "      <td>0.725496</td>\n",
              "      <td>0.852945</td>\n",
              "      <td>0.779969</td>\n",
              "      <td>1:27:03</td>\n",
              "    </tr>\n",
              "    <tr>\n",
              "      <td>2</td>\n",
              "      <td>0.241778</td>\n",
              "      <td>0.308950</td>\n",
              "      <td>0.481039</td>\n",
              "      <td>0.429664</td>\n",
              "      <td>0.457343</td>\n",
              "      <td>0.741023</td>\n",
              "      <td>0.859881</td>\n",
              "      <td>0.792666</td>\n",
              "      <td>1:16:42</td>\n",
              "    </tr>\n",
              "    <tr>\n",
              "      <td>2</td>\n",
              "      <td>0.241778</td>\n",
              "      <td>0.308950</td>\n",
              "      <td>0.481039</td>\n",
              "      <td>0.429664</td>\n",
              "      <td>0.457343</td>\n",
              "      <td>0.741023</td>\n",
              "      <td>0.859881</td>\n",
              "      <td>0.792666</td>\n",
              "      <td>1:16:42</td>\n",
              "    </tr>\n",
              "    <tr>\n",
              "      <td>3</td>\n",
              "      <td>0.193641</td>\n",
              "      <td>0.360760</td>\n",
              "      <td>0.495954</td>\n",
              "      <td>0.450137</td>\n",
              "      <td>0.478615</td>\n",
              "      <td>0.734213</td>\n",
              "      <td>0.868658</td>\n",
              "      <td>0.791672</td>\n",
              "      <td>1:24:50</td>\n",
              "    </tr>\n",
              "    <tr>\n",
              "      <td>3</td>\n",
              "      <td>0.193641</td>\n",
              "      <td>0.360760</td>\n",
              "      <td>0.495954</td>\n",
              "      <td>0.450137</td>\n",
              "      <td>0.478615</td>\n",
              "      <td>0.734213</td>\n",
              "      <td>0.868658</td>\n",
              "      <td>0.791672</td>\n",
              "      <td>1:24:50</td>\n",
              "    </tr>\n",
              "    <tr>\n",
              "      <td>4</td>\n",
              "      <td>0.159992</td>\n",
              "      <td>0.444575</td>\n",
              "      <td>0.487907</td>\n",
              "      <td>0.438288</td>\n",
              "      <td>0.466458</td>\n",
              "      <td>0.733088</td>\n",
              "      <td>0.866806</td>\n",
              "      <td>0.790678</td>\n",
              "      <td>1:22:29</td>\n",
              "    </tr>\n",
              "    <tr>\n",
              "      <td>4</td>\n",
              "      <td>0.159992</td>\n",
              "      <td>0.444575</td>\n",
              "      <td>0.487907</td>\n",
              "      <td>0.438288</td>\n",
              "      <td>0.466458</td>\n",
              "      <td>0.733088</td>\n",
              "      <td>0.866806</td>\n",
              "      <td>0.790678</td>\n",
              "      <td>1:22:29</td>\n",
              "    </tr>\n",
              "    <tr>\n",
              "      <td>5</td>\n",
              "      <td>0.156298</td>\n",
              "      <td>0.405380</td>\n",
              "      <td>0.477573</td>\n",
              "      <td>0.427875</td>\n",
              "      <td>0.455715</td>\n",
              "      <td>0.727201</td>\n",
              "      <td>0.863437</td>\n",
              "      <td>0.785684</td>\n",
              "      <td>1:26:49</td>\n",
              "    </tr>\n",
              "    <tr>\n",
              "      <td>5</td>\n",
              "      <td>0.156298</td>\n",
              "      <td>0.405380</td>\n",
              "      <td>0.477573</td>\n",
              "      <td>0.427875</td>\n",
              "      <td>0.455715</td>\n",
              "      <td>0.727201</td>\n",
              "      <td>0.863437</td>\n",
              "      <td>0.785684</td>\n",
              "      <td>1:26:49</td>\n",
              "    </tr>\n",
              "    <tr>\n",
              "      <td>6</td>\n",
              "      <td>0.143127</td>\n",
              "      <td>0.359904</td>\n",
              "      <td>0.479384</td>\n",
              "      <td>0.428726</td>\n",
              "      <td>0.458572</td>\n",
              "      <td>0.722442</td>\n",
              "      <td>0.862482</td>\n",
              "      <td>0.782378</td>\n",
              "      <td>1:28:56</td>\n",
              "    </tr>\n",
              "    <tr>\n",
              "      <td>6</td>\n",
              "      <td>0.143127</td>\n",
              "      <td>0.359904</td>\n",
              "      <td>0.479384</td>\n",
              "      <td>0.428726</td>\n",
              "      <td>0.458572</td>\n",
              "      <td>0.722442</td>\n",
              "      <td>0.862482</td>\n",
              "      <td>0.782378</td>\n",
              "      <td>1:28:56</td>\n",
              "    </tr>\n",
              "    <tr>\n",
              "      <td>7</td>\n",
              "      <td>0.140340</td>\n",
              "      <td>0.382755</td>\n",
              "      <td>0.479328</td>\n",
              "      <td>0.429473</td>\n",
              "      <td>0.458472</td>\n",
              "      <td>0.724626</td>\n",
              "      <td>0.863890</td>\n",
              "      <td>0.784349</td>\n",
              "      <td>1:29:21</td>\n",
              "    </tr>\n",
              "    <tr>\n",
              "      <td>7</td>\n",
              "      <td>0.140340</td>\n",
              "      <td>0.382755</td>\n",
              "      <td>0.479328</td>\n",
              "      <td>0.429473</td>\n",
              "      <td>0.458472</td>\n",
              "      <td>0.724626</td>\n",
              "      <td>0.863890</td>\n",
              "      <td>0.784349</td>\n",
              "      <td>1:29:21</td>\n",
              "    </tr>\n",
              "  </tbody>\n",
              "</table>"
            ],
            "text/plain": [
              "<IPython.core.display.HTML object>"
            ]
          },
          "metadata": {},
          "output_type": "display_data"
        },
        {
          "name": "stderr",
          "output_type": "stream",
          "text": [
            "C:\\Users\\User\\AppData\\Local\\Packages\\PythonSoftwareFoundation.Python.3.11_qbz5n2kfra8p0\\LocalCache\\local-packages\\Python311\\site-packages\\transformers\\tokenization_utils_base.py:3619: UserWarning: `as_target_tokenizer` is deprecated and will be removed in v5 of Transformers. You can tokenize your labels by using the argument `text_target` of the regular `__call__` method (either in the same call as your input texts if you use the same keyword arguments, or in a separate call.\n",
            "  warnings.warn(\n"
          ]
        }
      ],
      "source": [
        "learn.fit_one_cycle(8, lr_max=3e-5, cbs=fit_cbs)"
      ]
    },
    {
      "attachments": {},
      "cell_type": "markdown",
      "metadata": {
        "id": "Y-1hGsoLVukV"
      },
      "source": [
        "### Generate predictions"
      ]
    },
    {
      "cell_type": "code",
      "execution_count": 16,
      "metadata": {
        "id": "lVneesmxWgy3"
      },
      "outputs": [
        {
          "data": {
            "text/plain": [
              "'<em>Note, this answer is for Python 2.x as it was written in 2008, metaclasses are slightly different in 3.x, see the comments.<em> Metaclasses are the secret sauce that make \\'class\\' work. The default metaclass for a new style object is called \\'type\\'. Metaclasses take 3 args. \\'<strong>name<strong>\\', \\'<strong>bases<strong>\\' and \\'<strong>dict<strong>\\' Here is where the secret starts. Look for where name, bases and the dict come from in this example class definition. Lets define a metaclass that will demonstrate how \\'<strong>class:<strong>\\' calls it. And now, an example that actually means something, this will automatically make the variables in the list \"attributes\" set on the class, and set to None. Note that the magic behaviour that \\'Initalised\\' gains by having the metaclass <code>init_attributes<code> is not passed onto a subclass of Initalised. Here is an even more concrete example, showing how you can subclass \\'type\\' to make a metaclass that performs an action when the class is created. This is quite tricky:'"
            ]
          },
          "execution_count": 16,
          "metadata": {},
          "output_type": "execute_result"
        }
      ],
      "source": [
        "df['content'][0]"
      ]
    },
    {
      "cell_type": "code",
      "execution_count": 17,
      "metadata": {
        "id": "3Mh9WlNGWKXs"
      },
      "outputs": [
        {
          "name": "stderr",
          "output_type": "stream",
          "text": [
            "C:\\Users\\User\\AppData\\Local\\Packages\\PythonSoftwareFoundation.Python.3.11_qbz5n2kfra8p0\\LocalCache\\local-packages\\Python311\\site-packages\\transformers\\generation\\utils.py:1353: UserWarning: Using `max_length`'s default (142) to control the generation length. This behaviour is deprecated and will be removed from the config in v5 of Transformers -- we recommend using `max_new_tokens` to control the maximum length of the generation.\n",
            "  warnings.warn(\n"
          ]
        },
        {
          "name": "stdout",
          "output_type": "stream",
          "text": [
            "=== Prediction 1 ===\n",
            " Metaclasses are the secret sauce that make 'class' work.The default metaclass for a new style object is called 'type'.Metaclasses take 3 args.'<strong>name</strong>', '</strong><strong>bases</strong></strong>' and '<strong><dict</strong>(Here is where the secret starts.Look for where name, bases and the dict come from in this example class definition.Now, an example that actually means something, this will automatically make the variables in the list \"attributes\" set on the class, and set to None.<em>Note, this answer is for Python 2.x as it\n",
            "\n"
          ]
        }
      ],
      "source": [
        "outputs = learn.blurr_generate(df['content'][0], early_stopping=False, num_return_sequences=1)\n",
        "\n",
        "for idx, o in enumerate(outputs):\n",
        "    print(f'=== Prediction {idx+1} ===\\n{o}\\n')"
      ]
    },
    {
      "cell_type": "code",
      "execution_count": 18,
      "metadata": {},
      "outputs": [
        {
          "data": {
            "text/plain": [
              "Path('models/6epochs-bart_sosum_finetuned.pth')"
            ]
          },
          "execution_count": 18,
          "metadata": {},
          "output_type": "execute_result"
        }
      ],
      "source": [
        "# save this model\n",
        "learn.save('6epochs-bart_sosum_finetuned-opt')\n",
        "learn.save('6epochs-bart_sosum_finetuned', with_opt=False)"
      ]
    },
    {
      "cell_type": "code",
      "execution_count": 19,
      "metadata": {},
      "outputs": [
        {
          "ename": "TypeError",
          "evalue": "cannot pickle '_thread.lock' object",
          "output_type": "error",
          "traceback": [
            "\u001b[1;31m---------------------------------------------------------------------------\u001b[0m",
            "\u001b[1;31mTypeError\u001b[0m                                 Traceback (most recent call last)",
            "Cell \u001b[1;32mIn[19], line 1\u001b[0m\n\u001b[1;32m----> 1\u001b[0m learn\u001b[39m.\u001b[39;49mexport(\u001b[39m'\u001b[39;49m\u001b[39m6epochs-bart_sosum_finetuned.pkl\u001b[39;49m\u001b[39m'\u001b[39;49m)\n",
            "File \u001b[1;32m~\\AppData\\Local\\Packages\\PythonSoftwareFoundation.Python.3.11_qbz5n2kfra8p0\\LocalCache\\local-packages\\Python311\\site-packages\\fastai\\learner.py:436\u001b[0m, in \u001b[0;36mexport\u001b[1;34m(self, fname, pickle_module, pickle_protocol)\u001b[0m\n\u001b[0;32m    433\u001b[0m \u001b[39mwith\u001b[39;00m warnings\u001b[39m.\u001b[39mcatch_warnings():\n\u001b[0;32m    434\u001b[0m     \u001b[39m#To avoid the warning that come from PyTorch about model not being checked\u001b[39;00m\n\u001b[0;32m    435\u001b[0m     warnings\u001b[39m.\u001b[39msimplefilter(\u001b[39m\"\u001b[39m\u001b[39mignore\u001b[39m\u001b[39m\"\u001b[39m)\n\u001b[1;32m--> 436\u001b[0m     torch\u001b[39m.\u001b[39;49msave(\u001b[39mself\u001b[39;49m, \u001b[39mself\u001b[39;49m\u001b[39m.\u001b[39;49mpath\u001b[39m/\u001b[39;49mfname, pickle_module\u001b[39m=\u001b[39;49mpickle_module, pickle_protocol\u001b[39m=\u001b[39;49mpickle_protocol)\n\u001b[0;32m    437\u001b[0m \u001b[39mself\u001b[39m\u001b[39m.\u001b[39mcreate_opt()\n\u001b[0;32m    438\u001b[0m \u001b[39mif\u001b[39;00m state \u001b[39mis\u001b[39;00m \u001b[39mnot\u001b[39;00m \u001b[39mNone\u001b[39;00m: \u001b[39mself\u001b[39m\u001b[39m.\u001b[39mopt\u001b[39m.\u001b[39mload_state_dict(state)\n",
            "File \u001b[1;32m~\\AppData\\Local\\Packages\\PythonSoftwareFoundation.Python.3.11_qbz5n2kfra8p0\\LocalCache\\local-packages\\Python311\\site-packages\\torch\\serialization.py:441\u001b[0m, in \u001b[0;36msave\u001b[1;34m(obj, f, pickle_module, pickle_protocol, _use_new_zipfile_serialization)\u001b[0m\n\u001b[0;32m    439\u001b[0m \u001b[39mif\u001b[39;00m _use_new_zipfile_serialization:\n\u001b[0;32m    440\u001b[0m     \u001b[39mwith\u001b[39;00m _open_zipfile_writer(f) \u001b[39mas\u001b[39;00m opened_zipfile:\n\u001b[1;32m--> 441\u001b[0m         _save(obj, opened_zipfile, pickle_module, pickle_protocol)\n\u001b[0;32m    442\u001b[0m         \u001b[39mreturn\u001b[39;00m\n\u001b[0;32m    443\u001b[0m \u001b[39melse\u001b[39;00m:\n",
            "File \u001b[1;32m~\\AppData\\Local\\Packages\\PythonSoftwareFoundation.Python.3.11_qbz5n2kfra8p0\\LocalCache\\local-packages\\Python311\\site-packages\\torch\\serialization.py:653\u001b[0m, in \u001b[0;36m_save\u001b[1;34m(obj, zip_file, pickle_module, pickle_protocol)\u001b[0m\n\u001b[0;32m    651\u001b[0m pickler \u001b[39m=\u001b[39m pickle_module\u001b[39m.\u001b[39mPickler(data_buf, protocol\u001b[39m=\u001b[39mpickle_protocol)\n\u001b[0;32m    652\u001b[0m pickler\u001b[39m.\u001b[39mpersistent_id \u001b[39m=\u001b[39m persistent_id\n\u001b[1;32m--> 653\u001b[0m pickler\u001b[39m.\u001b[39mdump(obj)\n\u001b[0;32m    654\u001b[0m data_value \u001b[39m=\u001b[39m data_buf\u001b[39m.\u001b[39mgetvalue()\n\u001b[0;32m    655\u001b[0m zip_file\u001b[39m.\u001b[39mwrite_record(\u001b[39m'\u001b[39m\u001b[39mdata.pkl\u001b[39m\u001b[39m'\u001b[39m, data_value, \u001b[39mlen\u001b[39m(data_value))\n",
            "\u001b[1;31mTypeError\u001b[0m: cannot pickle '_thread.lock' object"
          ]
        }
      ],
      "source": [
        "learn.export('6epochs-bart_sosum_finetuned.pkl')"
      ]
    }
  ],
  "metadata": {
    "accelerator": "GPU",
    "colab": {
      "collapsed_sections": [],
      "name": "text_summarization",
      "provenance": []
    },
    "kernelspec": {
      "display_name": "Python 3",
      "name": "python3"
    },
    "language_info": {
      "codemirror_mode": {
        "name": "ipython",
        "version": 3
      },
      "file_extension": ".py",
      "mimetype": "text/x-python",
      "name": "python",
      "nbconvert_exporter": "python",
      "pygments_lexer": "ipython3",
      "version": "3.11.4"
    }
  },
  "nbformat": 4,
  "nbformat_minor": 0
}
