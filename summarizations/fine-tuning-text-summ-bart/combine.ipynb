{
 "cells": [
  {
   "cell_type": "code",
   "execution_count": 13,
   "metadata": {},
   "outputs": [],
   "source": [
    "import pandas as pd"
   ]
  },
  {
   "cell_type": "code",
   "execution_count": 14,
   "metadata": {},
   "outputs": [
    {
     "data": {
      "text/plain": [
       "Index(['content', 'title'], dtype='object')"
      ]
     },
     "metadata": {},
     "output_type": "display_data"
    },
    {
     "data": {
      "text/plain": [
       "Index(['title', 'content'], dtype='object')"
      ]
     },
     "metadata": {},
     "output_type": "display_data"
    },
    {
     "data": {
      "text/plain": [
       "((2278, 2), (506, 2))"
      ]
     },
     "execution_count": 14,
     "metadata": {},
     "output_type": "execute_result"
    }
   ],
   "source": [
    "df1 = pd.read_csv('./sosum-data/processed_answer.csv')\n",
    "df2 = pd.read_csv('./sosum-data/processed_question.csv')\n",
    "\n",
    "display(df1.columns)\n",
    "display(df2.columns)\n",
    "df1.shape, df2.shape"
   ]
  },
  {
   "cell_type": "code",
   "execution_count": 15,
   "metadata": {},
   "outputs": [],
   "source": [
    "# merge this two dataframes\n",
    "df = pd.concat([df1, df2], axis=0)"
   ]
  },
  {
   "cell_type": "code",
   "execution_count": 16,
   "metadata": {},
   "outputs": [],
   "source": [
    "df.to_csv('./sosum-data/processed_combined_data.csv', index=False)"
   ]
  },
  {
   "cell_type": "code",
   "execution_count": 17,
   "metadata": {},
   "outputs": [
    {
     "data": {
      "text/html": [
       "<div>\n",
       "<style scoped>\n",
       "    .dataframe tbody tr th:only-of-type {\n",
       "        vertical-align: middle;\n",
       "    }\n",
       "\n",
       "    .dataframe tbody tr th {\n",
       "        vertical-align: top;\n",
       "    }\n",
       "\n",
       "    .dataframe thead th {\n",
       "        text-align: right;\n",
       "    }\n",
       "</style>\n",
       "<table border=\"1\" class=\"dataframe\">\n",
       "  <thead>\n",
       "    <tr style=\"text-align: right;\">\n",
       "      <th></th>\n",
       "      <th>content</th>\n",
       "      <th>title</th>\n",
       "    </tr>\n",
       "  </thead>\n",
       "  <tbody>\n",
       "    <tr>\n",
       "      <th>0</th>\n",
       "      <td>&lt;em&gt;Note, this answer is for Python 2.x as it ...</td>\n",
       "      <td>Metaclasses are the secret sauce that make 'cl...</td>\n",
       "    </tr>\n",
       "    <tr>\n",
       "      <th>1</th>\n",
       "      <td>I think the ONLamp introduction to metaclass p...</td>\n",
       "      <td>In short: A class is a blueprint for the creat...</td>\n",
       "    </tr>\n",
       "    <tr>\n",
       "      <th>2</th>\n",
       "      <td>One use for metaclasses is adding new properti...</td>\n",
       "      <td>One use for metaclasses is adding new properti...</td>\n",
       "    </tr>\n",
       "    <tr>\n",
       "      <th>3</th>\n",
       "      <td>A metaclass is the class of a class. Like a cl...</td>\n",
       "      <td>A metaclass is the class of a class.Like a cla...</td>\n",
       "    </tr>\n",
       "    <tr>\n",
       "      <th>4</th>\n",
       "      <td>&lt;strong&gt;Main messages :)&lt;/strong&gt; De-cyphered:...</td>\n",
       "      <td>The Zen of Python, by Tim Peters</td>\n",
       "    </tr>\n",
       "    <tr>\n",
       "      <th>...</th>\n",
       "      <td>...</td>\n",
       "      <td>...</td>\n",
       "    </tr>\n",
       "    <tr>\n",
       "      <th>501</th>\n",
       "      <td>C# Syntax - Split String into Array by Comma, ...</td>\n",
       "      <td>C# Syntax - Split String into Array by Comma, ...</td>\n",
       "    </tr>\n",
       "    <tr>\n",
       "      <th>502</th>\n",
       "      <td>SSL_connect returned=1 errno=0 state=SSLv3 rea...</td>\n",
       "      <td>SSL_connect returned=1 errno=0 state=SSLv3 rea...</td>\n",
       "    </tr>\n",
       "    <tr>\n",
       "      <th>503</th>\n",
       "      <td>What is JavaScript's highest integer value tha...</td>\n",
       "      <td>What is JavaScript's highest integer value tha...</td>\n",
       "    </tr>\n",
       "    <tr>\n",
       "      <th>504</th>\n",
       "      <td>Accept server's self-signed ssl certificate in...</td>\n",
       "      <td>Accept server's self-signed ssl certificate in...</td>\n",
       "    </tr>\n",
       "    <tr>\n",
       "      <th>505</th>\n",
       "      <td>Main differences between SOAP and RESTful web ...</td>\n",
       "      <td>Main differences between SOAP and RESTful web ...</td>\n",
       "    </tr>\n",
       "  </tbody>\n",
       "</table>\n",
       "<p>2784 rows × 2 columns</p>\n",
       "</div>"
      ],
      "text/plain": [
       "                                               content  \\\n",
       "0    <em>Note, this answer is for Python 2.x as it ...   \n",
       "1    I think the ONLamp introduction to metaclass p...   \n",
       "2    One use for metaclasses is adding new properti...   \n",
       "3    A metaclass is the class of a class. Like a cl...   \n",
       "4    <strong>Main messages :)</strong> De-cyphered:...   \n",
       "..                                                 ...   \n",
       "501  C# Syntax - Split String into Array by Comma, ...   \n",
       "502  SSL_connect returned=1 errno=0 state=SSLv3 rea...   \n",
       "503  What is JavaScript's highest integer value tha...   \n",
       "504  Accept server's self-signed ssl certificate in...   \n",
       "505  Main differences between SOAP and RESTful web ...   \n",
       "\n",
       "                                                 title  \n",
       "0    Metaclasses are the secret sauce that make 'cl...  \n",
       "1    In short: A class is a blueprint for the creat...  \n",
       "2    One use for metaclasses is adding new properti...  \n",
       "3    A metaclass is the class of a class.Like a cla...  \n",
       "4                     The Zen of Python, by Tim Peters  \n",
       "..                                                 ...  \n",
       "501  C# Syntax - Split String into Array by Comma, ...  \n",
       "502  SSL_connect returned=1 errno=0 state=SSLv3 rea...  \n",
       "503  What is JavaScript's highest integer value tha...  \n",
       "504  Accept server's self-signed ssl certificate in...  \n",
       "505  Main differences between SOAP and RESTful web ...  \n",
       "\n",
       "[2784 rows x 2 columns]"
      ]
     },
     "execution_count": 17,
     "metadata": {},
     "output_type": "execute_result"
    }
   ],
   "source": [
    "df"
   ]
  }
 ],
 "metadata": {
  "kernelspec": {
   "display_name": "Python 3",
   "language": "python",
   "name": "python3"
  },
  "language_info": {
   "codemirror_mode": {
    "name": "ipython",
    "version": 3
   },
   "file_extension": ".py",
   "mimetype": "text/x-python",
   "name": "python",
   "nbconvert_exporter": "python",
   "pygments_lexer": "ipython3",
   "version": "3.11.4"
  },
  "orig_nbformat": 4
 },
 "nbformat": 4,
 "nbformat_minor": 2
}
