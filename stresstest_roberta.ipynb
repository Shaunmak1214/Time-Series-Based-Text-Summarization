{
 "cells": [
  {
   "cell_type": "code",
   "execution_count": null,
   "id": "400cc46a",
   "metadata": {},
   "outputs": [],
   "source": [
    "from string import punctuation\n",
    "from nltk.corpus import stopwords\n",
    "from nltk.tokenize import word_tokenize, sent_tokenize\n",
    "from nltk.stem.snowball import SnowballStemmer\n",
    "import nltk\n",
    "import re\n",
    "import string\n",
    "import numpy as np\n",
    "import pandas as pd\n",
    "from fuzzywuzzy import fuzz\n",
    "from nltk.corpus import stopwords\n",
    "import heapq\n",
    "import yaml\n",
    "from nltk.stem import WordNetLemmatizer, PorterStemmer\n",
    "\n",
    "from transformers import AutoTokenizer, AutoModelForSequenceClassification, AutoConfig\n",
    "from scipy.special import softmax\n",
    "import numpy as np\n",
    "from array import array\n",
    "import copy\n",
    "\n",
    "import time\n",
    "\n",
    "start = time.time()"
   ]
  },
  {
   "cell_type": "code",
   "execution_count": null,
   "id": "04f0a0a2",
   "metadata": {},
   "outputs": [],
   "source": [
    "import torch\n",
    "from transformers import AutoTokenizer, AutoModelForSequenceClassification\n",
    "\n",
    "tokenizer = AutoTokenizer.from_pretrained(\"roberta-large-mnli\")\n",
    "model = AutoModelForSequenceClassification.from_pretrained(\"roberta-large-mnli\")\n",
    "\n",
    "def test_entailment(text1, text2):\n",
    "    batch = tokenizer(text1, text2, return_tensors='pt').to(model.device)\n",
    "    with torch.no_grad():\n",
    "        proba = torch.softmax(model(**batch).logits, -1)\n",
    "    return proba.cpu().numpy()[0, model.config.label2id['ENTAILMENT']]\n",
    "\n",
    "def test_equivalence(text1, text2):\n",
    "    return test_entailment(text1, text2) * test_entailment(text2, text1) * 100"
   ]
  },
  {
   "cell_type": "code",
   "execution_count": null,
   "id": "77504c27",
   "metadata": {},
   "outputs": [],
   "source": [
    "questions = pd.read_csv('questions.csv')\n",
    "display(questions)"
   ]
  },
  {
   "cell_type": "code",
   "execution_count": null,
   "id": "453197ac",
   "metadata": {},
   "outputs": [],
   "source": [
    "questions = questions.drop(columns=['id', 'qid1', 'qid2'])\n",
    "display(questions)"
   ]
  },
  {
   "cell_type": "code",
   "execution_count": null,
   "id": "90c91eea",
   "metadata": {},
   "outputs": [],
   "source": [
    "test_questions = questions.copy()\n",
    "test_questions"
   ]
  },
  {
   "cell_type": "code",
   "execution_count": null,
   "id": "a62ed50d",
   "metadata": {},
   "outputs": [],
   "source": [
    "from tqdm import tqdm\n",
    "\n",
    "resulting_df = pd.DataFrame(columns=['question1', 'question2', 'result', 'transcribed_result'])\n",
    "\n",
    "for index, row in tqdm(test_questions.iterrows(), total=test_questions.shape[0]):\n",
    "    question_a = row['question1']\n",
    "    question_b = row['question2']\n",
    "    \n",
    "    result = test_equivalence(str(question_a), str(question_b))\n",
    "    \n",
    "    transcribed_result = 0\n",
    "    if result > 1 :\n",
    "        transcribed_result = 1\n",
    "    \n",
    "    resulting_df = resulting_df.append({'question1': question_a, 'question2': question_b, 'result': result, 'transcribed_result': transcribed_result}, ignore_index=True)\n",
    "    \n",
    "resulting_df.to_csv('questions-bert-similarity-full.csv')"
   ]
  },
  {
   "cell_type": "code",
   "execution_count": null,
   "id": "7c6d64e0",
   "metadata": {},
   "outputs": [],
   "source": [
    "resulting_df"
   ]
  },
  {
   "cell_type": "code",
   "execution_count": null,
   "id": "ac575dfa",
   "metadata": {},
   "outputs": [],
   "source": [
    "test_questions = test_questions.reset_index(drop=True)\n",
    "test_questions['is_match'] = test_questions['is_duplicate'] == resulting_df['transcribed_result']\n",
    "test_questions['is_match'] = test_questions['is_match'].astype(int)\n",
    "\n",
    "test_questions.to_csv('questions-roberta-similarity-with-match.csv')"
   ]
  },
  {
   "cell_type": "code",
   "execution_count": null,
   "id": "9f313252",
   "metadata": {},
   "outputs": [],
   "source": [
    "count_ones = (test_questions['is_match'] == 1).sum()\n",
    "total_count = len(test_questions['is_match'])\n",
    "percentage_ones = (count_ones / total_count) * 100\n",
    "\n",
    "print(\"Percentage of 1s: {:.2f}%\".format(percentage_ones))"
   ]
  }
 ],
 "metadata": {
  "kernelspec": {
   "display_name": "Python 3 (ipykernel)",
   "language": "python",
   "name": "python3"
  },
  "language_info": {
   "codemirror_mode": {
    "name": "ipython",
    "version": 3
   },
   "file_extension": ".py",
   "mimetype": "text/x-python",
   "name": "python",
   "nbconvert_exporter": "python",
   "pygments_lexer": "ipython3",
   "version": "3.10.9"
  }
 },
 "nbformat": 4,
 "nbformat_minor": 5
}
