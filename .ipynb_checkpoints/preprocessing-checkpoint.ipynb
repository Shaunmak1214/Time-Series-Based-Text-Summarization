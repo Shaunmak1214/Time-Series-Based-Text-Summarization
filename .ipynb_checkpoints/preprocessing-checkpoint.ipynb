{
 "cells": [
  {
   "cell_type": "code",
   "execution_count": 1,
   "metadata": {},
   "outputs": [
    {
     "name": "stdout",
     "output_type": "stream",
     "text": [
      "   POSTID                                           POSTLINK  \\\n",
      "0  952914  https://stackoverflow.com/questions/952914/how...   \n",
      "1  952914  https://stackoverflow.com/questions/952914/how...   \n",
      "2  952914  https://stackoverflow.com/questions/952914/how...   \n",
      "3  952914  https://stackoverflow.com/questions/952914/how...   \n",
      "4  952914  https://stackoverflow.com/questions/952914/how...   \n",
      "\n",
      "                                           POSTTITLE  \\\n",
      "0  How do I make a flat list out of a list of lists?   \n",
      "1  How do I make a flat list out of a list of lists?   \n",
      "2  How do I make a flat list out of a list of lists?   \n",
      "3  How do I make a flat list out of a list of lists?   \n",
      "4  How do I make a flat list out of a list of lists?   \n",
      "\n",
      "                                            POSTBODY  \\\n",
      "0  \\n                \\n<p>I have a list of lists ...   \n",
      "1  \\n                \\n<p>I have a list of lists ...   \n",
      "2  \\n                \\n<p>I have a list of lists ...   \n",
      "3  \\n                \\n<p>I have a list of lists ...   \n",
      "4  \\n                \\n<p>I have a list of lists ...   \n",
      "\n",
      "                    POSTDATE POSTVOTECOUNTS          COMMENTID  COMMENTSCORE  \\\n",
      "0  ('2009-06-04 20:30:05Z',)      ('4977',)                NaN           NaN   \n",
      "1  ('2009-06-04 20:30:05Z',)      ('4977',)   comment-24914362          53.0   \n",
      "2  ('2009-06-04 20:30:05Z',)      ('4977',)  comment-115552806           2.0   \n",
      "3  ('2009-06-04 20:30:05Z',)      ('4977',)                NaN           NaN   \n",
      "4  ('2009-06-04 20:30:05Z',)      ('4977',)                NaN           NaN   \n",
      "\n",
      "  COMMENTUSERNAME                                        COMMENTTEXT  ...  \\\n",
      "0             NaN                                                NaN  ...   \n",
      "1    RichieHindle  There's an in-depth discussion of this here: r...  ...   \n",
      "2     Golden Lion  stackoverflow.com/questions/50259290/… (this a...  ...   \n",
      "3             NaN                                                NaN  ...   \n",
      "4             NaN                                                NaN  ...   \n",
      "\n",
      "                                          ANSWERTEXT  \\\n",
      "0                                                NaN   \n",
      "1                                                NaN   \n",
      "2                                                NaN   \n",
      "3  Given a list of lists l,\\nflat_list = [item fo...   \n",
      "4  Given a list of lists l,\\nflat_list = [item fo...   \n",
      "\n",
      "                                          ANSWERBODY  \\\n",
      "0                                                NaN   \n",
      "1                                                NaN   \n",
      "2                                                NaN   \n",
      "3  ('\\n<p>Given a list of lists <code>l</code>,</...   \n",
      "4  ('\\n<p>Given a list of lists <code>l</code>,</...   \n",
      "\n",
      "                                ANSWERDATETIME ANSWERVOTECOUNTS   ANSWERCMTID  \\\n",
      "0                                          NaN              NaN           NaN   \n",
      "1                                          NaN              NaN           NaN   \n",
      "2                                          NaN              NaN           NaN   \n",
      "3  2010-10-15 01:21:33Z, License: CC BY-SA 2.5        ('6900',)           NaN   \n",
      "4  2010-10-15 01:21:33Z, License: CC BY-SA 2.5        ('6900',)  ('4204394',)   \n",
      "\n",
      "                                       ANSWERCMTTEXT  \\\n",
      "0                                                NaN   \n",
      "1                                                NaN   \n",
      "2                                                NaN   \n",
      "3                                                NaN   \n",
      "4  I tried a test with the same data, using itert...   \n",
      "\n",
      "                                       ANSWERCMTBODY     ANSWERCMTDATETIME  \\\n",
      "0                                                NaN                   NaN   \n",
      "1                                                NaN                   NaN   \n",
      "2                                                NaN                   NaN   \n",
      "3                                                NaN                   NaN   \n",
      "4  ('\\n                \\n                <span cl...  Oct 15, 2010 at 1:21   \n",
      "\n",
      "  ANSWERCMTVOTECOUNTS            TYPE  \n",
      "0                 NaN            post  \n",
      "1                 NaN    post_comment  \n",
      "2                 NaN    post_comment  \n",
      "3                 NaN          answer  \n",
      "4            ('617',)  answer_comment  \n",
      "\n",
      "[5 rows x 22 columns]\n"
     ]
    },
    {
     "name": "stderr",
     "output_type": "stream",
     "text": [
      "/Users/shaun/miniforge3/lib/python3.9/site-packages/fuzzywuzzy/fuzz.py:11: UserWarning: Using slow pure-python SequenceMatcher. Install python-Levenshtein to remove this warning\n",
      "  warnings.warn('Using slow pure-python SequenceMatcher. Install python-Levenshtein to remove this warning')\n"
     ]
    }
   ],
   "source": [
    "from string import punctuation\n",
    "from nltk.corpus import stopwords\n",
    "from nltk.tokenize import word_tokenize, sent_tokenize\n",
    "from nltk.stem.snowball import SnowballStemmer\n",
    "import nltk\n",
    "import re\n",
    "import string\n",
    "import numpy as np\n",
    "\n",
    "import pandas as pd\n",
    "from fuzzywuzzy import fuzz\n",
    "\n",
    "df = pd.read_csv('./scraper/archive/finalrevision.csv', names=[\"POSTID\", \"POSTLINK\", \"POSTTITLE\", \"POSTBODY\", \"POSTDATE\", \"POSTVOTECOUNTS\", \"COMMENTID\", \"COMMENTSCORE\", \"COMMENTUSERNAME\", \"COMMENTTEXT\", \"COMMENTDATETIME\", \"ANSWERID\", \"ANSWERTEXT\", \"ANSWERBODY\", \"ANSWERDATETIME\", \"ANSWERVOTECOUNTS\", \"ANSWERCMTID\", \"ANSWERCMTTEXT\", \"ANSWERCMTBODY\", \"ANSWERCMTDATETIME\", \"ANSWERCMTVOTECOUNTS\" , \"TYPE\"])\n",
    "query = 'How to make a list in python'\n",
    "\n",
    "print(df.head())"
   ]
  },
  {
   "cell_type": "code",
   "execution_count": 2,
   "metadata": {},
   "outputs": [],
   "source": [
    "ALL_COLS = [\"POSTID\", \"POSTLINK\", \"POSTTITLE\", \"POSTBODY\", \"POSTDATE\", \"POSTVOTECOUNTS\", \"COMMENTID\", \"COMMENTSCORE\", \"COMMENTUSERNAME\", \"COMMENTTEXT\", \"COMMENTDATETIME\", \"ANSWERID\", \"ANSWERTEXT\", \"ANSWERBODY\", \"ANSWERDATETIME\", \"ANSWERVOTECOUNTS\", \"ANSWERCMTID\", \"ANSWERCMTTEXT\", \"ANSWERCMTBODY\", \"ANSWERCMTDATETIME\", \"ANSWERCMTVOTECOUNTS\" , \"TYPE\"]\n",
    "\n",
    "dPOST  = pd.DataFrame(columns=ALL_COLS)\n",
    "dPOST = df.copy();\n",
    "dPOST = dPOST.drop(columns=['COMMENTID', 'COMMENTSCORE', 'COMMENTUSERNAME', 'COMMENTTEXT', 'COMMENTDATETIME', 'ANSWERID', 'ANSWERTEXT', 'ANSWERBODY', 'ANSWERDATETIME', 'ANSWERVOTECOUNTS', 'ANSWERCMTID', 'ANSWERCMTTEXT', 'ANSWERCMTBODY', 'ANSWERCMTDATETIME', 'ANSWERCMTVOTECOUNTS'])\n",
    "# drop if type is not post\n",
    "dPOST = dPOST[dPOST['TYPE'] == 'post']\n",
    "\n",
    "dfPC = pd.DataFrame(columns=ALL_COLS)\n",
    "dfPC = df.copy();\n",
    "dfPC = dfPC.drop(columns=['ANSWERID', 'ANSWERTEXT', 'ANSWERBODY', 'ANSWERDATETIME', 'ANSWERVOTECOUNTS', 'ANSWERCMTID', 'ANSWERCMTTEXT', 'ANSWERCMTBODY', 'ANSWERCMTDATETIME', 'ANSWERCMTVOTECOUNTS'])\n",
    "# drop if type is not post\n",
    "dfPC = dfPC[dfPC['TYPE'] == 'post_comment']\n",
    "\n",
    "dfA = pd.DataFrame(columns=ALL_COLS)\n",
    "dfA = df.copy();\n",
    "dfA = dfA.drop(columns=['POSTLINK', 'POSTBODY', 'POSTDATE', 'POSTVOTECOUNTS', 'COMMENTID', 'COMMENTSCORE', 'COMMENTUSERNAME', 'COMMENTTEXT', 'COMMENTDATETIME', 'ANSWERCMTID', 'ANSWERCMTTEXT', 'ANSWERCMTBODY', 'ANSWERCMTDATETIME', 'ANSWERCMTVOTECOUNTS'])\n",
    "\n",
    "dfAAC = dfA[dfA['TYPE'] == 'answer']\n",
    "\n",
    "dFAC = pd.DataFrame(columns=ALL_COLS)\n",
    "dFAC = df.copy();\n",
    "dFAC = dFAC.drop(columns=['POSTLINK', 'POSTBODY', 'POSTDATE', 'POSTVOTECOUNTS', 'COMMENTID', 'COMMENTSCORE', 'COMMENTUSERNAME', 'COMMENTTEXT', 'COMMENTDATETIME', 'ANSWERTEXT', 'ANSWERBODY', 'ANSWERDATETIME', 'ANSWERVOTECOUNTS'])\n",
    "dFACT = dFAC[dFAC['TYPE'] == 'answer_comment']"
   ]
  },
  {
   "cell_type": "code",
   "execution_count": 3,
   "metadata": {},
   "outputs": [],
   "source": [
    "def calPartialRatio (str1, str2):\n",
    "    return fuzz.partial_ratio(str1, str2)\n",
    "  \n",
    "def calTokenSortRatio (str1, str2):\n",
    "    return fuzz.token_sort_ratio(str1, str2)\n",
    "  \n",
    "class GroupedComments: \n",
    "    def __init__(self, title, post, post_comments, answers, answer_comments): \n",
    "        self.title = title\n",
    "        self.post = post\n",
    "        self.post_comments = post_comments\n",
    "        self.answers = answers\n",
    "        self.answer_comments = answer_comments\n",
    "        \n",
    "\n",
    "def grouping(titleArr): \n",
    "    grouped = []\n",
    "    for title in titleArr:\n",
    "        post = dPOST[dPOST['POSTTITLE'].str.contains(title)]\n",
    "        post_comments = dfPC[dfPC['POSTTITLE'].str.contains(title)]\n",
    "        answers = dfAAC[dfAAC['POSTTITLE'].str.contains(title)]\n",
    "        answer_comments = dfAAC[dfAAC['POSTTITLE'].str.contains(title)]\n",
    "        grouped.append(GroupedComments(title, post, post_comments, answers, answer_comments))\n",
    "    return grouped "
   ]
  },
  {
   "cell_type": "code",
   "execution_count": 4,
   "metadata": {},
   "outputs": [
    {
     "name": "stdout",
     "output_type": "stream",
     "text": [
      "There are a total of 396 unique titles\n"
     ]
    },
    {
     "data": {
      "text/html": [
       "<div>\n",
       "<style scoped>\n",
       "    .dataframe tbody tr th:only-of-type {\n",
       "        vertical-align: middle;\n",
       "    }\n",
       "\n",
       "    .dataframe tbody tr th {\n",
       "        vertical-align: top;\n",
       "    }\n",
       "\n",
       "    .dataframe thead th {\n",
       "        text-align: right;\n",
       "    }\n",
       "</style>\n",
       "<table border=\"1\" class=\"dataframe\">\n",
       "  <thead>\n",
       "    <tr style=\"text-align: right;\">\n",
       "      <th></th>\n",
       "      <th>postId</th>\n",
       "      <th>title</th>\n",
       "      <th>partial_ratio</th>\n",
       "      <th>token_sort_ratio</th>\n",
       "      <th>average</th>\n",
       "    </tr>\n",
       "  </thead>\n",
       "  <tbody>\n",
       "    <tr>\n",
       "      <th>0</th>\n",
       "      <td>74612350</td>\n",
       "      <td>How to append json in Python List</td>\n",
       "      <td>71</td>\n",
       "      <td>75</td>\n",
       "      <td>73.0</td>\n",
       "    </tr>\n",
       "    <tr>\n",
       "      <th>0</th>\n",
       "      <td>74014717</td>\n",
       "      <td>how to search in a python list?</td>\n",
       "      <td>61</td>\n",
       "      <td>79</td>\n",
       "      <td>70.0</td>\n",
       "    </tr>\n",
       "    <tr>\n",
       "      <th>0</th>\n",
       "      <td>74319047</td>\n",
       "      <td>How do I add Python list in order?</td>\n",
       "      <td>61</td>\n",
       "      <td>72</td>\n",
       "      <td>66.5</td>\n",
       "    </tr>\n",
       "    <tr>\n",
       "      <th>0</th>\n",
       "      <td>72827601</td>\n",
       "      <td>how to pass a python list in place of * in sql...</td>\n",
       "      <td>61</td>\n",
       "      <td>67</td>\n",
       "      <td>64.0</td>\n",
       "    </tr>\n",
       "    <tr>\n",
       "      <th>0</th>\n",
       "      <td>8537916</td>\n",
       "      <td>How do I prepend to a short python list?</td>\n",
       "      <td>55</td>\n",
       "      <td>72</td>\n",
       "      <td>63.5</td>\n",
       "    </tr>\n",
       "    <tr>\n",
       "      <th>0</th>\n",
       "      <td>74896745</td>\n",
       "      <td>How to get the value in Python list？ [closed]</td>\n",
       "      <td>64</td>\n",
       "      <td>63</td>\n",
       "      <td>63.5</td>\n",
       "    </tr>\n",
       "    <tr>\n",
       "      <th>0</th>\n",
       "      <td>73928102</td>\n",
       "      <td>How to iterate all item at once in python list?</td>\n",
       "      <td>57</td>\n",
       "      <td>68</td>\n",
       "      <td>62.5</td>\n",
       "    </tr>\n",
       "    <tr>\n",
       "      <th>0</th>\n",
       "      <td>952914</td>\n",
       "      <td>How do I make a flat list out of a list of lists?</td>\n",
       "      <td>68</td>\n",
       "      <td>55</td>\n",
       "      <td>61.5</td>\n",
       "    </tr>\n",
       "    <tr>\n",
       "      <th>0</th>\n",
       "      <td>73720445</td>\n",
       "      <td>Parse xml file to a python list</td>\n",
       "      <td>50</td>\n",
       "      <td>71</td>\n",
       "      <td>60.5</td>\n",
       "    </tr>\n",
       "    <tr>\n",
       "      <th>0</th>\n",
       "      <td>74464301</td>\n",
       "      <td>How to manipulate a python list based on the f...</td>\n",
       "      <td>68</td>\n",
       "      <td>51</td>\n",
       "      <td>59.5</td>\n",
       "    </tr>\n",
       "  </tbody>\n",
       "</table>\n",
       "</div>"
      ],
      "text/plain": [
       "     postId                                              title partial_ratio  \\\n",
       "0  74612350                  How to append json in Python List            71   \n",
       "0  74014717                    how to search in a python list?            61   \n",
       "0  74319047                 How do I add Python list in order?            61   \n",
       "0  72827601  how to pass a python list in place of * in sql...            61   \n",
       "0   8537916           How do I prepend to a short python list?            55   \n",
       "0  74896745      How to get the value in Python list？ [closed]            64   \n",
       "0  73928102    How to iterate all item at once in python list?            57   \n",
       "0    952914  How do I make a flat list out of a list of lists?            68   \n",
       "0  73720445                    Parse xml file to a python list            50   \n",
       "0  74464301  How to manipulate a python list based on the f...            68   \n",
       "\n",
       "  token_sort_ratio average  \n",
       "0               75    73.0  \n",
       "0               79    70.0  \n",
       "0               72    66.5  \n",
       "0               67    64.0  \n",
       "0               72    63.5  \n",
       "0               63    63.5  \n",
       "0               68    62.5  \n",
       "0               55    61.5  \n",
       "0               71    60.5  \n",
       "0               51    59.5  "
      ]
     },
     "execution_count": 4,
     "metadata": {},
     "output_type": "execute_result"
    }
   ],
   "source": [
    "# get all unique values in column 3\n",
    "unique_values = df['POSTTITLE'].unique()\n",
    "print(\"There are a total of {} unique titles\".format(len(unique_values)))\n",
    "\n",
    "# create another dataframe to store the results\n",
    "df2 = pd.DataFrame(columns=['postId', 'title', 'partial_ratio', 'token_sort_ratio'])\n",
    "\n",
    "# calculate the partial ratio for each unique value\n",
    "for unique_value in unique_values:\n",
    "    # find the postId of the unique value\n",
    "    postId = df[df['POSTTITLE'] == unique_value]['POSTID'].tolist()[0]\n",
    "    df2 = pd.concat([df2, pd.DataFrame({'postId': postId , 'title': unique_value, 'partial_ratio': calPartialRatio(unique_value, query), 'token_sort_ratio': calTokenSortRatio(unique_value, query)}, index=[0])], )\n",
    "\n",
    "Top10MatchesTS = df2.sort_values(by=['token_sort_ratio'], ascending=False).head(10)\n",
    "Top10MatchesPR = df2.sort_values(by=['partial_ratio'], ascending=False).head(10)\n",
    "\n",
    "# add a new column to store the average of the two ratios\n",
    "Top10MatchesTS['average'] = (Top10MatchesTS['token_sort_ratio'] + Top10MatchesTS['partial_ratio']) / 2\n",
    "Top10MatchesPR['average'] = (Top10MatchesPR['token_sort_ratio'] + Top10MatchesPR['partial_ratio']) / 2\n",
    "\n",
    "# sort the dataframe by the average column\n",
    "Top10MathesMerged = pd.concat([Top10MatchesTS, Top10MatchesPR]).drop_duplicates().sort_values(by=['average'], ascending=False).head(10)\n",
    "\n",
    "Top10MathesMerged"
   ]
  },
  {
   "cell_type": "markdown",
   "metadata": {},
   "source": []
  },
  {
   "cell_type": "code",
   "execution_count": 5,
   "metadata": {},
   "outputs": [
    {
     "name": "stdout",
     "output_type": "stream",
     "text": [
      "how to search in a python list?\n"
     ]
    }
   ],
   "source": [
    "allcommentsGrouped = grouping(Top10MathesMerged['title'].tolist())\n",
    "print(allcommentsGrouped[1].title)\n",
    "\n",
    "# flatten the list\n",
    "# def flattenListAndRemoveNan(list):\n",
    "#     return [x for x in list if str(x) != 'nan']\n",
    "\n",
    "# allcommentsGrouped = [x for x in allcommentsGrouped if flattenListAndRemoveNan(x.comments)]\n",
    "# # print(allcommentsGrouped[0].comments)\n",
    "\n",
    "# allCommentsGroupedCleaned = []\n",
    "\n",
    "# for idx, item in enumerate(allcommentsGrouped):\n",
    "#     comments = []\n",
    "#     for comment in item.comments:\n",
    "#       if str(comment) != 'nan':\n",
    "#         comments.append(comment)\n",
    "        \n",
    "#     allCommentsGroupedCleaned.append(\n",
    "#       GroupedComments(\n",
    "#         comments, item.title\n",
    "#       )\n",
    "#     )\n",
    "\n",
    "# print(allCommentsGroupedCleaned[4].comments)\n",
    "# print(len(allCommentsGroupedCleaned[4].comments))\n"
   ]
  },
  {
   "cell_type": "markdown",
   "metadata": {},
   "source": [
    "## Now we have all of the infos in hand for the top 10 post, let's group them and join all the texts together for each column"
   ]
  },
  {
   "cell_type": "code",
   "execution_count": 216,
   "metadata": {},
   "outputs": [
    {
     "ename": "KeyError",
     "evalue": "'ANSWERCMTDATETIME'",
     "output_type": "error",
     "traceback": [
      "\u001b[0;31m---------------------------------------------------------------------------\u001b[0m",
      "\u001b[0;31mKeyError\u001b[0m                                  Traceback (most recent call last)",
      "File \u001b[0;32m~/miniforge3/lib/python3.9/site-packages/pandas/core/indexes/base.py:3621\u001b[0m, in \u001b[0;36mIndex.get_loc\u001b[0;34m(self, key, method, tolerance)\u001b[0m\n\u001b[1;32m   3620\u001b[0m \u001b[39mtry\u001b[39;00m:\n\u001b[0;32m-> 3621\u001b[0m     \u001b[39mreturn\u001b[39;00m \u001b[39mself\u001b[39;49m\u001b[39m.\u001b[39;49m_engine\u001b[39m.\u001b[39;49mget_loc(casted_key)\n\u001b[1;32m   3622\u001b[0m \u001b[39mexcept\u001b[39;00m \u001b[39mKeyError\u001b[39;00m \u001b[39mas\u001b[39;00m err:\n",
      "File \u001b[0;32m~/miniforge3/lib/python3.9/site-packages/pandas/_libs/index.pyx:136\u001b[0m, in \u001b[0;36mpandas._libs.index.IndexEngine.get_loc\u001b[0;34m()\u001b[0m\n",
      "File \u001b[0;32m~/miniforge3/lib/python3.9/site-packages/pandas/_libs/index.pyx:163\u001b[0m, in \u001b[0;36mpandas._libs.index.IndexEngine.get_loc\u001b[0;34m()\u001b[0m\n",
      "File \u001b[0;32mpandas/_libs/hashtable_class_helper.pxi:5198\u001b[0m, in \u001b[0;36mpandas._libs.hashtable.PyObjectHashTable.get_item\u001b[0;34m()\u001b[0m\n",
      "File \u001b[0;32mpandas/_libs/hashtable_class_helper.pxi:5206\u001b[0m, in \u001b[0;36mpandas._libs.hashtable.PyObjectHashTable.get_item\u001b[0;34m()\u001b[0m\n",
      "\u001b[0;31mKeyError\u001b[0m: 'ANSWERCMTDATETIME'",
      "\nThe above exception was the direct cause of the following exception:\n",
      "\u001b[0;31mKeyError\u001b[0m                                  Traceback (most recent call last)",
      "\u001b[1;32m/Users/shaun/Documents/Time-Series-Based-Text-Summarization/preprocessing.ipynb Cell 8\u001b[0m in \u001b[0;36m<cell line: 2>\u001b[0;34m()\u001b[0m\n\u001b[1;32m     <a href='vscode-notebook-cell:/Users/shaun/Documents/Time-Series-Based-Text-Summarization/preprocessing.ipynb#X35sZmlsZQ%3D%3D?line=33'>34</a>\u001b[0m \u001b[39mfor\u001b[39;00m (index, answer_cmt) \u001b[39min\u001b[39;00m item\u001b[39m.\u001b[39manswer_comments[\u001b[39m'\u001b[39m\u001b[39mANSWERTEXT\u001b[39m\u001b[39m'\u001b[39m]\u001b[39m.\u001b[39miteritems():\n\u001b[1;32m     <a href='vscode-notebook-cell:/Users/shaun/Documents/Time-Series-Based-Text-Summarization/preprocessing.ipynb#X35sZmlsZQ%3D%3D?line=34'>35</a>\u001b[0m   \u001b[39m# answer_cmt_idx = item.answer_comments[item.answer_comments['ANSWERTEXT'] == answer_cmt]['ANSWERCMTID'].tolist()[0]\u001b[39;00m\n\u001b[1;32m     <a href='vscode-notebook-cell:/Users/shaun/Documents/Time-Series-Based-Text-Summarization/preprocessing.ipynb#X35sZmlsZQ%3D%3D?line=35'>36</a>\u001b[0m   answer_cmt_votes \u001b[39m=\u001b[39m item\u001b[39m.\u001b[39manswer_comments[item\u001b[39m.\u001b[39manswer_comments[\u001b[39m'\u001b[39m\u001b[39mANSWERTEXT\u001b[39m\u001b[39m'\u001b[39m] \u001b[39m==\u001b[39m answer_cmt][\u001b[39m'\u001b[39m\u001b[39mANSWERVOTECOUNTS\u001b[39m\u001b[39m'\u001b[39m]\u001b[39m.\u001b[39mtolist()[\u001b[39m0\u001b[39m]\n\u001b[0;32m---> <a href='vscode-notebook-cell:/Users/shaun/Documents/Time-Series-Based-Text-Summarization/preprocessing.ipynb#X35sZmlsZQ%3D%3D?line=36'>37</a>\u001b[0m   answer_cmt_dt \u001b[39m=\u001b[39m item\u001b[39m.\u001b[39;49manswer_comments[item\u001b[39m.\u001b[39;49manswer_comments[\u001b[39m'\u001b[39;49m\u001b[39mANSWERTEXT\u001b[39;49m\u001b[39m'\u001b[39;49m] \u001b[39m==\u001b[39;49m answer_cmt][\u001b[39m'\u001b[39;49m\u001b[39mANSWERCMTDATETIME\u001b[39;49m\u001b[39m'\u001b[39;49m]\u001b[39m.\u001b[39mtolist()[\u001b[39m0\u001b[39m]\n\u001b[1;32m     <a href='vscode-notebook-cell:/Users/shaun/Documents/Time-Series-Based-Text-Summarization/preprocessing.ipynb#X35sZmlsZQ%3D%3D?line=37'>38</a>\u001b[0m   \u001b[39mif\u001b[39;00m \u001b[39mstr\u001b[39m(answer_cmt) \u001b[39m!=\u001b[39m \u001b[39m'\u001b[39m\u001b[39mnan\u001b[39m\u001b[39m'\u001b[39m:\n\u001b[1;32m     <a href='vscode-notebook-cell:/Users/shaun/Documents/Time-Series-Based-Text-Summarization/preprocessing.ipynb#X35sZmlsZQ%3D%3D?line=38'>39</a>\u001b[0m     answers_cmts\u001b[39m.\u001b[39mappend({\n\u001b[1;32m     <a href='vscode-notebook-cell:/Users/shaun/Documents/Time-Series-Based-Text-Summarization/preprocessing.ipynb#X35sZmlsZQ%3D%3D?line=39'>40</a>\u001b[0m       \u001b[39m\"\u001b[39m\u001b[39manswer_cmt\u001b[39m\u001b[39m\"\u001b[39m: answer_cmt,\n\u001b[1;32m     <a href='vscode-notebook-cell:/Users/shaun/Documents/Time-Series-Based-Text-Summarization/preprocessing.ipynb#X35sZmlsZQ%3D%3D?line=40'>41</a>\u001b[0m       \u001b[39m\"\u001b[39m\u001b[39mid\u001b[39m\u001b[39m\"\u001b[39m: \u001b[39m1\u001b[39m,\n\u001b[1;32m     <a href='vscode-notebook-cell:/Users/shaun/Documents/Time-Series-Based-Text-Summarization/preprocessing.ipynb#X35sZmlsZQ%3D%3D?line=41'>42</a>\u001b[0m       \u001b[39m\"\u001b[39m\u001b[39mvotes\u001b[39m\u001b[39m\"\u001b[39m: answer_cmt_votes,\n\u001b[1;32m     <a href='vscode-notebook-cell:/Users/shaun/Documents/Time-Series-Based-Text-Summarization/preprocessing.ipynb#X35sZmlsZQ%3D%3D?line=42'>43</a>\u001b[0m       \u001b[39m\"\u001b[39m\u001b[39mdatetime\u001b[39m\u001b[39m\"\u001b[39m: answer_cmt_dt\n\u001b[1;32m     <a href='vscode-notebook-cell:/Users/shaun/Documents/Time-Series-Based-Text-Summarization/preprocessing.ipynb#X35sZmlsZQ%3D%3D?line=43'>44</a>\u001b[0m     })\n",
      "File \u001b[0;32m~/miniforge3/lib/python3.9/site-packages/pandas/core/frame.py:3505\u001b[0m, in \u001b[0;36mDataFrame.__getitem__\u001b[0;34m(self, key)\u001b[0m\n\u001b[1;32m   3503\u001b[0m \u001b[39mif\u001b[39;00m \u001b[39mself\u001b[39m\u001b[39m.\u001b[39mcolumns\u001b[39m.\u001b[39mnlevels \u001b[39m>\u001b[39m \u001b[39m1\u001b[39m:\n\u001b[1;32m   3504\u001b[0m     \u001b[39mreturn\u001b[39;00m \u001b[39mself\u001b[39m\u001b[39m.\u001b[39m_getitem_multilevel(key)\n\u001b[0;32m-> 3505\u001b[0m indexer \u001b[39m=\u001b[39m \u001b[39mself\u001b[39;49m\u001b[39m.\u001b[39;49mcolumns\u001b[39m.\u001b[39;49mget_loc(key)\n\u001b[1;32m   3506\u001b[0m \u001b[39mif\u001b[39;00m is_integer(indexer):\n\u001b[1;32m   3507\u001b[0m     indexer \u001b[39m=\u001b[39m [indexer]\n",
      "File \u001b[0;32m~/miniforge3/lib/python3.9/site-packages/pandas/core/indexes/base.py:3623\u001b[0m, in \u001b[0;36mIndex.get_loc\u001b[0;34m(self, key, method, tolerance)\u001b[0m\n\u001b[1;32m   3621\u001b[0m     \u001b[39mreturn\u001b[39;00m \u001b[39mself\u001b[39m\u001b[39m.\u001b[39m_engine\u001b[39m.\u001b[39mget_loc(casted_key)\n\u001b[1;32m   3622\u001b[0m \u001b[39mexcept\u001b[39;00m \u001b[39mKeyError\u001b[39;00m \u001b[39mas\u001b[39;00m err:\n\u001b[0;32m-> 3623\u001b[0m     \u001b[39mraise\u001b[39;00m \u001b[39mKeyError\u001b[39;00m(key) \u001b[39mfrom\u001b[39;00m \u001b[39merr\u001b[39;00m\n\u001b[1;32m   3624\u001b[0m \u001b[39mexcept\u001b[39;00m \u001b[39mTypeError\u001b[39;00m:\n\u001b[1;32m   3625\u001b[0m     \u001b[39m# If we have a listlike key, _check_indexing_error will raise\u001b[39;00m\n\u001b[1;32m   3626\u001b[0m     \u001b[39m#  InvalidIndexError. Otherwise we fall through and re-raise\u001b[39;00m\n\u001b[1;32m   3627\u001b[0m     \u001b[39m#  the TypeError.\u001b[39;00m\n\u001b[1;32m   3628\u001b[0m     \u001b[39mself\u001b[39m\u001b[39m.\u001b[39m_check_indexing_error(key)\n",
      "\u001b[0;31mKeyError\u001b[0m: 'ANSWERCMTDATETIME'"
     ]
    }
   ],
   "source": [
    "allCommentsGroupedCleanedDict = {}\n",
    "for idx, item in enumerate(allcommentsGrouped):\n",
    "    comments = []\n",
    "    answers = [] \n",
    "    answers_cmts = []\n",
    "    \n",
    "    for (index, comment) in item.post_comments['COMMENTTEXT'].iteritems():\n",
    "      comment_idx = item.post_comments[item.post_comments['COMMENTTEXT'] == comment]['COMMENTID'].tolist()[0]\n",
    "      comment_votes = item.post_comments[item.post_comments['COMMENTTEXT'] == comment]['COMMENTSCORE'].tolist()[0]\n",
    "      comment_dt = item.post_comments[item.post_comments['COMMENTTEXT'] == comment]['COMMENTDATETIME'].tolist()[0]\n",
    "      if str(comment) != 'nan':\n",
    "        comments.append({\n",
    "          \"comment\": comment, \n",
    "          \"id\": comment_idx,\n",
    "          \"votes\": comment_votes,\n",
    "          \"datetime\": comment_dt\n",
    "        })\n",
    "    comments_joined = ' '.join([str(elem['comment']) for elem in comments])\n",
    "\n",
    "    for (index, answer) in item.answers['ANSWERTEXT'].iteritems():\n",
    "      answer_idx = item.answers[item.answers['ANSWERTEXT'] == answer]['ANSWERID'].tolist()[0]\n",
    "      answer_votes = item.answers[item.answers['ANSWERTEXT'] == answer]['ANSWERVOTECOUNTS'].tolist()[0]\n",
    "      answer_dt = item.answers[item.answers['ANSWERTEXT'] == answer]['ANSWERDATETIME'].tolist()[0]\n",
    "      if str(answer) != 'nan':\n",
    "        answers.append({\n",
    "          \"answer\": answer,\n",
    "          \"id\": answer_idx,\n",
    "          \"votes\": answer_votes,\n",
    "          \"datetime\": answer_dt\n",
    "        })\n",
    "        \n",
    "    answers_joined = ' '.join([str(elem['answer']) for elem in answers])\n",
    "    \n",
    "    for (index, answer_cmt) in item.answer_comments['ANSWERTEXT'].iteritems():\n",
    "      # answer_cmt_idx = item.answer_comments[item.answer_comments['ANSWERTEXT'] == answer_cmt]['ANSWERCMTID'].tolist()[0]\n",
    "      answer_cmt_votes = item.answer_comments[item.answer_comments['ANSWERTEXT'] == answer_cmt]['ANSWERVOTECOUNTS'].tolist()[0]\n",
    "      answer_cmt_dt = item.answer_comments[item.answer_comments['ANSWERTEXT'] == answer_cmt]['ANSWERCMTDATETIME'].tolist()[0]\n",
    "      if str(answer_cmt) != 'nan':\n",
    "        answers_cmts.append({\n",
    "          \"answer_cmt\": answer_cmt,\n",
    "          \"id\": 1,\n",
    "          \"votes\": answer_cmt_votes,\n",
    "          \"datetime\": answer_cmt_dt\n",
    "        })\n",
    "        \n",
    "    answers_cmts_joined = ' '.join([str(elem['answer_cmt']) for elem in answers_cmts])\n",
    "    \n",
    "    allCommentsGroupedCleanedDict[item.title] = {\n",
    "      \"comments\": comments,\n",
    "      \"answers\": answers,\n",
    "      \"answer_comments\": answers_cmts,\n",
    "      \"comments_joined\": comments_joined,\n",
    "      \"answers_joined\": answers_joined,\n",
    "      \"answers_cmts_joined\": answers_cmts_joined\n",
    "    }\n",
    "\n",
    "print(allCommentsGroupedCleanedDict)"
   ]
  },
  {
   "cell_type": "code",
   "execution_count": 99,
   "metadata": {},
   "outputs": [
    {
     "ename": "TypeError",
     "evalue": "sequence item 0: expected str instance, float found",
     "output_type": "error",
     "traceback": [
      "\u001b[0;31m---------------------------------------------------------------------------\u001b[0m",
      "\u001b[0;31mTypeError\u001b[0m                                 Traceback (most recent call last)",
      "\u001b[1;32m/Users/shaun/Documents/Time-Series-Based-Text-Summarization/preprocessing.ipynb Cell 5\u001b[0m in \u001b[0;36m<cell line: 4>\u001b[0;34m()\u001b[0m\n\u001b[1;32m      <a href='vscode-notebook-cell:/Users/shaun/Documents/Time-Series-Based-Text-Summarization/preprocessing.ipynb#W4sZmlsZQ%3D%3D?line=0'>1</a>\u001b[0m stopwords \u001b[39m=\u001b[39m \u001b[39mset\u001b[39m(stopwords\u001b[39m.\u001b[39mwords(\u001b[39m\"\u001b[39m\u001b[39menglish\u001b[39m\u001b[39m\"\u001b[39m))\n\u001b[1;32m      <a href='vscode-notebook-cell:/Users/shaun/Documents/Time-Series-Based-Text-Summarization/preprocessing.ipynb#W4sZmlsZQ%3D%3D?line=1'>2</a>\u001b[0m punctuation \u001b[39m=\u001b[39m punctuation \u001b[39m+\u001b[39m \u001b[39m'\u001b[39m\u001b[39m\\n\u001b[39;00m\u001b[39m'\u001b[39m\n\u001b[0;32m----> <a href='vscode-notebook-cell:/Users/shaun/Documents/Time-Series-Based-Text-Summarization/preprocessing.ipynb#W4sZmlsZQ%3D%3D?line=3'>4</a>\u001b[0m compiledCommentsForFirstPost \u001b[39m=\u001b[39m \u001b[39m'\u001b[39;49m\u001b[39m \u001b[39;49m\u001b[39m'\u001b[39;49m\u001b[39m.\u001b[39;49mjoin(allcommentsGrouped[\u001b[39m0\u001b[39;49m]\u001b[39m.\u001b[39;49mcomments)\n",
      "\u001b[0;31mTypeError\u001b[0m: sequence item 0: expected str instance, float found"
     ]
    }
   ],
   "source": [
    "stopwords = set(stopwords.words(\"english\"))\n",
    "punctuation = punctuation + '\\n'\n",
    "\n",
    "compiledCommentsForFirstPost = ' '.join(allcommentsGrouped[0].comments)"
   ]
  },
  {
   "cell_type": "code",
   "execution_count": null,
   "metadata": {},
   "outputs": [],
   "source": []
  },
  {
   "cell_type": "code",
   "execution_count": 6,
   "metadata": {},
   "outputs": [
    {
     "name": "stdout",
     "output_type": "stream",
     "text": [
      "[('list', 1.0), ('use', 0.56), ('nest', 0.48), ('python', 0.32), ('one', 0.28), ('ineffici', 0.28), ('answer', 0.28), ('think', 0.24), ('doesnt', 0.24), ('iter', 0.24), ('way', 0.24), ('flatten', 0.2), ('chain', 0.2), ('comprehens', 0.2), ('sublist', 0.2), ('tree', 0.2), ('would', 0.2), ('code', 0.2), ('also', 0.2), ('read', 0.16), ('ndarray', 0.16), ('leaf', 0.16), ('could', 0.16), ('make', 0.16), ('case', 0.16), ('well', 0.16), ('tupl', 0.16), ('type', 0.16), ('becaus', 0.16), ('question', 0.16), ('discuss', 0.12), ('explain', 0.12), ('test', 0.12), ('l', 0.12), ('like', 0.12), ('loop', 0.12), ('item', 0.12), ('yield', 0.12), ('right', 0.12), ('seem', 0.12), ('sure', 0.12), ('confus', 0.12), ('oper', 0.12), ('general', 0.12), ('obvious', 0.12), ('append', 0.12), ('creat', 0.12), ('return', 0.12), ('number', 0.12), ('though', 0.12), ('abov', 0.12), ('better', 0.12), ('extend', 0.12), ('solut', 0.12), ('handl', 0.12), ('string', 0.12), ('work', 0.12), ('x', 0.12), ('e', 0.12), ('propos', 0.12), ('interest', 0.08), ('articl', 0.08), ('differ', 0.08), ('tri', 0.08), ('import', 0.08), ('bit', 0.08), ('fastest', 0.08), ('found', 0.08), ('syntax', 0.08), ('understand', 0.08), ('forest', 0.08), ('someth', 0.08), ('miss', 0.08), ('appreci', 0.08), ('look', 0.08), ('time', 0.08), ('want', 0.08), ('less', 0.08), ('onli', 0.08), ('join', 0.08), ('togeth', 0.08), ('paramet', 0.08), ('readabl', 0.08), ('mani', 0.08), ('particular', 0.08), ('user', 0.08), ('may', 0.08), ('find', 0.08), ('repeat', 0.08), ('simpl', 0.08), ('function', 0.08), ('improv', 0.08), ('pretti', 0.08), ('neat', 0.08), ('shlemiel', 0.08), ('painter', 0.08), ('algorithm', 0.08), ('joelonsoftwarecomarticlesfoghtml', 0.08), ('unnecessarili', 0.08), ('monoid', 0.08), ('veri', 0.08), ('huge', 0.08), ('among', 0.08), ('array', 0.08), ('exampl', 0.08), ('sequenc', 0.08), ('faster', 0.08), ('reduc', 0.08), ('much', 0.08), ('didnt', 0.08), ('multipl', 0.08), ('practic', 0.08), ('packag', 0.08), ('reinvent', 0.08), ('mention', 0.08), ('post', 0.08), ('good', 0.08), ('id', 0.08), ('stick', 0.08), ('instead', 0.08), ('ssssss', 0.08), ('fail', 0.08), ('eg', 0.08), ('extendl', 0.08), ('avoid', 0.08), ('alreadi', 0.08), ('stackoverflowcoma', 0.08), ('contain', 0.08), ('whi', 0.08), ('juanpaarrivillaga', 0.08), ('natur', 0.08), ('befor', 0.08), ('quit', 0.08), ('strdeeplistsplit', 0.08), ('indepth', 0.04), ('rightfootinblogspotcommoreonpythonflattenhtml', 0.04), ('sever', 0.04), ('method', 0.04), ('arbitrarili', 0.04), ('stackoverflowcomquestions…', 0.04), ('npflatten', 0.04), ('tfflatten', 0.04), ('static', 0.04), ('vs', 0.04), ('dynam', 0.04), ('data', 0.04), ('itertoolschainfromiter', 0.04), ('mtimeit', 0.04), ('sfrom', 0.04), ('itertool', 0.04), ('listchainfromiterablel', 0.04), ('run', 0.04), ('twice', 0.04), ('fast', 0.04), ('altern', 0.04), ('shown', 0.04), ('hard', 0.04), ('realiz', 0.04), ('exact', 0.04), ('might', 0.04), ('easier', 0.04), ('comprehend', 0.04), ('appli', 0.04), ('robcrowel', 0.04), ('feel', 0.04), ('alway', 0.04), ('get', 0.04), ('wrong', 0.04), ('end', 0.04), ('googl', 0.04), ('wish', 0.04), ('grammar', 0.04), ('anyon', 0.04), ('point', 0.04), ('kept', 0.04), ('everi', 0.04), ('gif', 0.04), ('drove', 0.04), ('home', 0.04), ('istackimgurcomgovgif', 0.04), ('tricki', 0.04), ('thing', 0.04), ('straightforward', 0.04), ('know', 0.04), ('pass', 0.04), ('caus', 0.04), ('toplevel', 0.04), ('expand', 0.04), ('descend', 0.04), ('timdierk', 0.04), ('im', 0.04), ('requir', 0.04), ('argument', 0.04), ('given', 0.04), ('techniqu', 0.04), ('complex', 0.04), ('usag', 0.04), ('splat', 0.04), ('circumst', 0.04), ('isnt', 0.04), ('obscur', 0.04), ('reject', 0.04), ('languag', 0.04), ('featur', 0.04), ('arent', 0.04), ('necessarili', 0.04), ('begin', 0.04), ('mean', 0.04), ('tie', 0.04), ('hand', 0.04), ('behind', 0.04), ('back', 0.04), ('throw', 0.04), ('background', 0.04), ('intermediari', 0.04), ('fromiter', 0.04), ('fetch', 0.04), ('direct', 0.04), ('top', 0.04), ('def', 0.04), ('flattenlistdeeplist', 0.04), ('listlistobject', 0.04), ('listchainfromiterabledeeplist', 0.04), ('hint', 0.04), ('clariti', 0.04), ('go', 0.04), ('modern', 0.04), ('ide', 0.04), ('interpret', 0.04), ('listobject', 0.04), ('clever', 0.04), ('wouldnt', 0.04), ('ugli', 0.04), ('form', 0.04), ('conveni', 0.04), ('abstract', 0.04), ('sens', 0.04), ('limit', 0.04), ('deserv', 0.04), ('correct', 0.04), ('treatment', 0.04), ('perform', 0.04), ('concern', 0.04), ('quadrat', 0.04), ('aspect', 0.04), ('sum', 0.04), ('math', 0.04), ('mathieularosecomhownottoflattenalistoflistsinpython', 0.04), ('listnumpyarrayaflat', 0.04), ('perfplot', 0.04), ('averag', 0.04), ('size', 0.04), ('sara', 0.04), ('defin', 0.04), ('pleas', 0.04), ('numpyflat', 0.04), ('rossetta', 0.04), ('link', 0.04), ('got', 0.04), ('visibledeprecationwarn', 0.04), ('rag', 0.04), ('listortupl', 0.04), ('listsortuplesor', 0.04), ('length', 0.04), ('shape', 0.04), ('deprec', 0.04), ('meant', 0.04), ('must', 0.04), ('specifi', 0.04), ('dtypeobject', 0.04), ('option', 0.04), ('show', 0.04), ('itemsextendsublist', 0.04), ('copi', 0.04), ('generat', 0.04), ('unus', 0.04), ('temporari', 0.04), ('possibl', 0.04), ('space', 0.04), ('depend', 0.04), ('gc', 0.04), ('decid', 0.04), ('clean', 0.04), ('wrote', 0.04), ('see', 0.04), ('recurs', 0.04), ('complet', 0.04), ('martinthoma', 0.04), ('fyi', 0.04), ('common', 0.04), ('thirdparti', 0.04), ('save', 0.04), ('wheel', 0.04), ('ive', 0.04), ('moreitertool', 0.04), ('cheer', 0.04), ('mayb', 0.04), ('travers', 0.04), ('name', 0.04), ('wherea', 0.04), ('keep', 0.04), ('univers', 0.04), ('check', 0.04), ('hasattrx', 0.04), ('importingcheck', 0.04), ('exclud', 0.04), ('str', 0.04), ('sss', 0.04), ('ss', 0.04), ('output', 0.04), ('op', 0.04), ('numpi', 0.04), ('without', 0.04), ('reli', 0.04), ('librari', 0.04), ('afford', 0.04), ('ad', 0.04), ('project', 0.04), ('best', 0.04), ('element', 0.04), ('lst', 0.04), ('cours', 0.04), ('integ', 0.04), ('mind', 0.04), ('charact', 0.04), ('newlist', 0.04), ('newlistextend', 0.04), ('rather', 0.04), ('larg', 0.04), ('overhead', 0.04), ('lambda', 0.04), ('attribut', 0.04), ('lookup', 0.04), ('add', 0.04), ('functool', 0.04), ('reason', 0.04), ('give', 0.04), ('typeerror', 0.04), ('ani', 0.04), ('sumflatten', 0.04), ('itr', 0.04), ('high', 0.04), ('comment', 0.04), ('made', 0.04), ('uneven', 0.04), ('extens', 0.04), ('greater', 0.04), ('depth', 0.04), ('someon', 0.04), ('still', 0.04), ('compat', 0.04), ('chang', 0.04), ('flatteni', 0.04), ('appendl', 0.04), ('complic', 0.04), ('slower', 0.04), ('ᴡʜᴀᴄᴋᴀᴍᴀᴅᴏᴏᴅʟᴇ', 0.04), ('yesterday', 0.04), ('approach', 0.04), ('popular', 0.04), ('day', 0.04), ('wierdlist', 0.04), ('nicelist', 0.04), ('liner', 0.04), ('flatlist', 0.04), ('intereplac', 0.04), ('replac', 0.04), ('inde', 0.04), ('ᴡʜᴀᴄᴋᴀᴍᴀᴅᴏᴏᴅʟᴇs', 0.04), ('wont', 0.04), ('digit', 0.04), ('although', 0.04), ('simplifi', 0.04), ('write', 0.04), ('intestrip', 0.04), ('suggest', 0.04), ('deleet', 0.04), ('real', 0.04), ('hacki', 0.04), ('transform', 0.04), ('versatil', 0.04), ('mix', 0.04), ('unfortun', 0.04), ('saw', 0.04), ('recent', 0.04), ('book', 0.04)]\n",
      "total sentences:  37\n",
      "scores for sentences:  [('stackoverflowcomquestions… this article explain the difference between an npflatten and a tfflatten use static vs dynamic ndarray I tried a test with the same data, using itertoolschainfromiterable   python mtimeit sfrom itertools import chain; l,,,,,, , , listchainfromiterablel It runs a bit more than twice as fast as the nested list comprehension thats the fastest of the alternatives shown here I found the syntax hard to understand until I realized you can think of it exactly like nested for loops for sublist in l for item in sublist yield item leaf for tree in forest for leaf in tree might be easier to comprehend and apply RobCrowell Same here To me the list comprehension one doesnt read right, something feels off about it  I always seem to get it wrong and end up googling To me this reads right leaf for leaf in tree for tree in forest I wish this is how it was I am sure I am missing something about the grammar here, and I would appreciate if anyone could point that out I kept looking here every time I wanted to flatten a list, but this gif is what drove it home istackimgurcomGoVgif The  is the tricky thing that makes chain less straightforward than the list comprehension You have to know that chain only joins together the iterables passed as parameters, and the  causes the toplevel list to be expanded into parameters, so chain joins together all those iterables, but doesnt descend further I think this makes the comprehension more readable than the use of chain in this case TimDierks Im not sure this requires you to understand Python syntax is an argument against using a given technique in Python Sure, complex usage could confuse, but the splat operator is generally useful in many circumstances, and this isnt using it in a particularly obscure way; rejecting all language features that arent necessarily obvious to beginning users means youre tying one hand behind your back May as well throw out list comprehensions too while youre at it; users from other backgrounds would find a for loop that repeatedly appends more obvious  creates an intermediary tuple!', 69.11999999999983), ('Tried numpyflat on the test example from Rossetta Code link and got VisibleDeprecationWarning Creating an ndarray from ragged nested sequences which is a listortuple of listsortuplesor ndarrays with different lengths or shapes is deprecated If you meant to do this, you must specify dtypeobject when creating the ndarray One option missed above which shows up faster for my particular case i just items  ; for sublist in a itemsextendsublist; return sublist This is a Shlemiel the painters algorithm joelonsoftwarecomarticlesfoghtml reduce is very inefficient for this use case as it will repeat copies and generate many unused temporary lists On in both time and possibly space, depending on how the GC decides to clean Its better to use append or extend I just wrote pretty much the same, because I didnt see your solution  here is what I looked for recursively flatten complete multiple lists   MartinThoma Much appreciated FYI, if flattening nested iterables is a common practice for you, there are some thirdparty packages that handle this well This may save from reinventing the wheel Ive mentioned moreitertools among others discussed in this post Cheers Maybe traverse could also be a good name for this way of a tree, whereas Id keep it less universal for this answer by sticking to nested lists You can check if hasattrx, iter instead of importingchecking against Iterable and that will exclude strings as well the above code doesnt seem to work for if one of the nested lists is having a list of strings , , , , , , , , ssssss, str, sss, ss, , ,  output , , , , , , , ssssss, , ,  OP doesnt mention they want to use numpy Python has good ways of doing this without relying on a library If you can afford adding a package to your project  this answer is best it fails when all elements are not list eg lst, , of course integer is not iterable also, mind that list of strings will be flattened to a list of characters extend is better used as newlist  , extend  newlistextend, for sublist in l extendl as it avoids the rather large overhead of the lambda, the attribute lookup on x, and the or for python  add from functools import reduce This answer is already up in this question stackoverflowcoma Neat!', 63.679999999999765), ('fromiterable fetch the nested lists directly from the top list To make this more readable, you can make a simple function def flattenlistdeeplist listlistobject return listchainfromiterabledeeplist The type hinting improves the clarity of whats going on modern IDEs would interpret this as returning a listobject type thats pretty neat and clever but I wouldnt use it because its confusing to read This is a Shlemiel the painters algorithm joelonsoftwarecomarticlesfoghtml  unnecessarily inefficient as well as unnecessarily ugly The append operation on lists forms a Monoid, which is one of the most convenient abstractions for thinking of a  operation in a general sense not limited to numbers only So this answer deserves a  from me for correct treatment of lists as a monoid The performance is concerning though this is a very inefficient way because of the quadratic aspect of the sum This article explains the maths of the inefficiency mathieularosecomhownottoflattenalistoflistsinpython For huge nested lists, listnumpyarrayaflat is the fastest among all functions above Is there a way to do a d perfplot?', 22.559999999999942), ('Thats just a more complicated and a bit slower way of what ᴡʜᴀᴄᴋᴀᴍᴀᴅᴏᴏᴅʟᴇ already posted before I reinvented his proposal yesterday, so this approach seems quite popular these days ; Not quite wierdlist  , , , , , , , , ,   nicelist, , , , , , , , , ,  my code as one liner would be  flatlist  intereplace,replace, for e in strdeeplistsplit, You are indeed right , ᴡʜᴀᴄᴋᴀᴍᴀᴅᴏᴏᴅʟᴇs proposal wont work with multiple digit numbers, I also didnt test this before although it should be obvious You could simplify your code and write intestrip  for e in strdeeplistsplit, But Id suggest to stick with Deleets proposal for real use cases It doesnt contain hacky type transformations, its faster and more versatile because it naturally also handles lists with mixed types Unfortunately no But I saw this code recently here Python Practice Book  Theres an indepth discussion of this here rightfootinblogspotcommoreonpythonflattenhtml, discussing several methods of flattening arbitrarily nested lists of lists An interesting read!', 15.239999999999977), ('Doesnt work for unevenly nested lists like , , , , ,  juanpaarrivillaga its a simple and natural extension of the question, though Answers that can handle greater depth of nesting are more likely to be useful to someone who finds this question If you are still interested in Python  compatibility, change yield from to a for loop, eg for x in flatteni yield x Fails for python for the example nested list in the question , , , , , , , ,  Why extendl instead of appendl?', 14.079999999999993), ('Though the other answer here, stackoverflowcoma, explains the reasons this solution should generally be avoided its inefficient and confusing Will also give a TypeError if your list contains a tuple why would you use a tuple?', 9.760000000000002), ('Thats just a more complicated and a bit slower way of what ᴡʜᴀᴄᴋᴀᴍᴀᴅᴏᴏᴅʟᴇ already posted before I reinvented his proposal yesterday, so this approach seems quite popular these days ; Not quite wierdlist  , , , , , , , , ,   nicelist, , , , , , , , , ,  my code as one liner would be  flatlist  intereplace,replace, for e in strdeeplistsplit, You are indeed right , ᴡʜᴀᴄᴋᴀᴍᴀᴅᴏᴏᴅʟᴇs proposal wont work with multiple digit numbers, I also didnt test this before although it should be obvious You could simplify your code and write intestrip  for e in strdeeplistsplit, But Id suggest to stick with Deleets proposal for real use cases It doesnt contain hacky type transformations, its faster and more versatile because it naturally also handles lists with mixed types Unfortunately no But I saw this code recently here Python Practice Book', 5.040000000000002), ('now your solution is inefficient And with any sequence, sumflattene for e in itr, tuple is highly inefficient, juanpaarrivillaga Your comment made me think about improving my answer and I think I found a better one, what do you think?', 4.960000000000003), ('number of arrays by average size of array?', 0.64), ('Sara can you define huge please?', 0.48), ('Theres an indepth discussion of this here rightfootinblogspotcommoreonpythonflattenhtml, discussing several methods of flattening arbitrarily nested lists of lists An interesting read!', 0.04)]\n"
     ]
    }
   ],
   "source": [
    "translate_table = dict((ord(char), None) for char in punctuation if char not in [' ', '\\t', ' ', '\\r', \",\", ';', '?', '!'])\n",
    "translate_table.update(dict((ord(char), None) for char in string.digits))\n",
    "\n",
    "compiledCommentsForFirstPost = compiledCommentsForFirstPost.translate(translate_table)\n",
    "\n",
    "word_frequencies = {}\n",
    "for word in word_tokenize(compiledCommentsForFirstPost):\n",
    "    word = SnowballStemmer(\"english\").stem(word)\n",
    "    if word not in stopwords:\n",
    "        if word not in punctuation:\n",
    "          if word not in word_frequencies.keys():\n",
    "              word_frequencies[word] = 1\n",
    "          else:\n",
    "              word_frequencies[word] += 1\n",
    "\n",
    "maximum_frequncy = max(word_frequencies.values())\n",
    "for word in word_frequencies.keys():\n",
    "    word_frequencies[word] = (word_frequencies[word]/maximum_frequncy)\n",
    "    \n",
    "print(sorted(word_frequencies.items(), key=lambda x: x[1], reverse=True))\n",
    "\n",
    "sentence_list = sent_tokenize(compiledCommentsForFirstPost)\n",
    "print('total sentences: ', len(sentence_list))\n",
    "\n",
    "sentence_scores = {}\n",
    "for sent in sentence_list:\n",
    "    sentence = sent.split()\n",
    "    for word in sentence:        \n",
    "        if word.lower() in word_frequencies.keys():\n",
    "            if sent not in sentence_scores.keys():\n",
    "                sentence_scores[sent] = word_frequencies[word.lower()]\n",
    "            else:\n",
    "                sentence_scores[sent] += word_frequencies[word.lower()]\n",
    "                \n",
    "print('scores for sentences: ', sorted(sentence_scores.items(), key=lambda x: x[1], reverse=True))"
   ]
  },
  {
   "cell_type": "code",
   "execution_count": 7,
   "metadata": {},
   "outputs": [
    {
     "name": "stdout",
     "output_type": "stream",
     "text": [
      "stackoverflowcomquestions… this article explain the difference between an npflatten and a tfflatten use static vs dynamic ndarray I tried a test with the same data, using itertoolschainfromiterable   python mtimeit sfrom itertools import chain; l,,,,,, , , listchainfromiterablel It runs a bit more than twice as fast as the nested list comprehension thats the fastest of the alternatives shown here I found the syntax hard to understand until I realized you can think of it exactly like nested for loops for sublist in l for item in sublist yield item leaf for tree in forest for leaf in tree might be easier to comprehend and apply RobCrowell Same here To me the list comprehension one doesnt read right, something feels off about it  I always seem to get it wrong and end up googling To me this reads right leaf for leaf in tree for tree in forest I wish this is how it was I am sure I am missing something about the grammar here, and I would appreciate if anyone could point that out I kept looking here every time I wanted to flatten a list, but this gif is what drove it home istackimgurcomGoVgif The  is the tricky thing that makes chain less straightforward than the list comprehension You have to know that chain only joins together the iterables passed as parameters, and the  causes the toplevel list to be expanded into parameters, so chain joins together all those iterables, but doesnt descend further I think this makes the comprehension more readable than the use of chain in this case TimDierks Im not sure this requires you to understand Python syntax is an argument against using a given technique in Python Sure, complex usage could confuse, but the splat operator is generally useful in many circumstances, and this isnt using it in a particularly obscure way; rejecting all language features that arent necessarily obvious to beginning users means youre tying one hand behind your back May as well throw out list comprehensions too while youre at it; users from other backgrounds would find a for loop that repeatedly appends more obvious  creates an intermediary tuple!\n",
      "total sentences:  37\n"
     ]
    }
   ],
   "source": [
    "print(sorted(sentence_scores.items(), key=lambda x: x[1], reverse=True)[0][0])\n",
    "print('total sentences: ', len(sentence_list))"
   ]
  },
  {
   "cell_type": "code",
   "execution_count": 8,
   "metadata": {},
   "outputs": [
    {
     "name": "stderr",
     "output_type": "stream",
     "text": [
      "Some weights of the model checkpoint at cardiffnlp/twitter-roberta-base-sentiment-latest were not used when initializing RobertaForSequenceClassification: ['roberta.pooler.dense.bias', 'roberta.pooler.dense.weight']\n",
      "- This IS expected if you are initializing RobertaForSequenceClassification from the checkpoint of a model trained on another task or with another architecture (e.g. initializing a BertForSequenceClassification model from a BertForPreTraining model).\n",
      "- This IS NOT expected if you are initializing RobertaForSequenceClassification from the checkpoint of a model that you expect to be exactly identical (initializing a BertForSequenceClassification model from a BertForSequenceClassification model).\n",
      "Asking to truncate to max_length but no maximum length is provided and the model has no predefined maximum length. Default to no truncation.\n"
     ]
    },
    {
     "name": "stdout",
     "output_type": "stream",
     "text": [
      "['stackoverflowcomquestions… this article explain the difference between an npflatten and a tfflatten use static vs dynamic ndarray I tried a test with the same data, using itertoolschainfromiterable   python mtimeit sfrom itertools import chain; l,,,,,, , , listchainfromiterablel It runs a bit more than twice as fast as the nested list comprehension thats the fastest of the alternatives shown here I found the syntax hard to understand until I realized you can think of it exactly like nested for loops for sublist in l for item in sublist yield item leaf for tree in forest for leaf in tree might be easier to comprehend and apply RobCrowell Same here To me the list comprehension one doesnt read right, something feels off about it  I always seem to get it wrong and end up googling To me this reads right leaf for leaf in tree for tree in forest I wish this is how it was I am sure I am missing something about the grammar here, and I would appreciate if anyone could point that out I kept looking here every time I wanted to flatten a list, but this gif is what drove it home istackimgurcomGoVgif The  is the tricky thing that makes chain less straightforward than the list comprehension You have to know that chain only joins together the iterables passed as parameters, and the  causes the toplevel list to be expanded into parameters, so chain joins together all those iterables, but doesnt descend further I think this makes the comprehension more readable than the use of chain in this case TimDierks Im not sure this requires you to understand Python syntax is an argument against using a given technique in Python Sure, complex usage could confuse, but the splat operator is generally useful in many circumstances, and this isnt using it in a particularly obscure way; rejecting all language features that arent necessarily obvious to beginning users means youre tying one hand behind your back May as well throw out list comprehensions too while youre at it; users from other backgrounds would find a for loop that repeatedly appends more obvious  creates an intermediary tuple!', 'Tried numpyflat on the test example from Rossetta Code link and got VisibleDeprecationWarning Creating an ndarray from ragged nested sequences which is a listortuple of listsortuplesor ndarrays with different lengths or shapes is deprecated If you meant to do this, you must specify dtypeobject when creating the ndarray One option missed above which shows up faster for my particular case i just items  ; for sublist in a itemsextendsublist; return sublist This is a Shlemiel the painters algorithm joelonsoftwarecomarticlesfoghtml reduce is very inefficient for this use case as it will repeat copies and generate many unused temporary lists On in both time and possibly space, depending on how the GC decides to clean Its better to use append or extend I just wrote pretty much the same, because I didnt see your solution  here is what I looked for recursively flatten complete multiple lists   MartinThoma Much appreciated FYI, if flattening nested iterables is a common practice for you, there are some thirdparty packages that handle this well This may save from reinventing the wheel Ive mentioned moreitertools among others discussed in this post Cheers Maybe traverse could also be a good name for this way of a tree, whereas Id keep it less universal for this answer by sticking to nested lists You can check if hasattrx, iter instead of importingchecking against Iterable and that will exclude strings as well the above code doesnt seem to work for if one of the nested lists is having a list of strings , , , , , , , , ssssss, str, sss, ss, , ,  output , , , , , , , ssssss, , ,  OP doesnt mention they want to use numpy Python has good ways of doing this without relying on a library If you can afford adding a package to your project  this answer is best it fails when all elements are not list eg lst, , of course integer is not iterable also, mind that list of strings will be flattened to a list of characters extend is better used as newlist  , extend  newlistextend, for sublist in l extendl as it avoids the rather large overhead of the lambda, the attribute lookup on x, and the or for python  add from functools import reduce This answer is already up in this question stackoverflowcoma Neat!', 'fromiterable fetch the nested lists directly from the top list To make this more readable, you can make a simple function def flattenlistdeeplist listlistobject return listchainfromiterabledeeplist The type hinting improves the clarity of whats going on modern IDEs would interpret this as returning a listobject type thats pretty neat and clever but I wouldnt use it because its confusing to read This is a Shlemiel the painters algorithm joelonsoftwarecomarticlesfoghtml  unnecessarily inefficient as well as unnecessarily ugly The append operation on lists forms a Monoid, which is one of the most convenient abstractions for thinking of a  operation in a general sense not limited to numbers only So this answer deserves a  from me for correct treatment of lists as a monoid The performance is concerning though this is a very inefficient way because of the quadratic aspect of the sum This article explains the maths of the inefficiency mathieularosecomhownottoflattenalistoflistsinpython For huge nested lists, listnumpyarrayaflat is the fastest among all functions above Is there a way to do a d perfplot?', 'Thats just a more complicated and a bit slower way of what ᴡʜᴀᴄᴋᴀᴍᴀᴅᴏᴏᴅʟᴇ already posted before I reinvented his proposal yesterday, so this approach seems quite popular these days ; Not quite wierdlist  , , , , , , , , ,   nicelist, , , , , , , , , ,  my code as one liner would be  flatlist  intereplace,replace, for e in strdeeplistsplit, You are indeed right , ᴡʜᴀᴄᴋᴀᴍᴀᴅᴏᴏᴅʟᴇs proposal wont work with multiple digit numbers, I also didnt test this before although it should be obvious You could simplify your code and write intestrip  for e in strdeeplistsplit, But Id suggest to stick with Deleets proposal for real use cases It doesnt contain hacky type transformations, its faster and more versatile because it naturally also handles lists with mixed types Unfortunately no But I saw this code recently here Python Practice Book  Theres an indepth discussion of this here rightfootinblogspotcommoreonpythonflattenhtml, discussing several methods of flattening arbitrarily nested lists of lists An interesting read!', 'Doesnt work for unevenly nested lists like , , , , ,  juanpaarrivillaga its a simple and natural extension of the question, though Answers that can handle greater depth of nesting are more likely to be useful to someone who finds this question If you are still interested in Python  compatibility, change yield from to a for loop, eg for x in flatteni yield x Fails for python for the example nested list in the question , , , , , , , ,  Why extendl instead of appendl?', 'Though the other answer here, stackoverflowcoma, explains the reasons this solution should generally be avoided its inefficient and confusing Will also give a TypeError if your list contains a tuple why would you use a tuple?', 'Thats just a more complicated and a bit slower way of what ᴡʜᴀᴄᴋᴀᴍᴀᴅᴏᴏᴅʟᴇ already posted before I reinvented his proposal yesterday, so this approach seems quite popular these days ; Not quite wierdlist  , , , , , , , , ,   nicelist, , , , , , , , , ,  my code as one liner would be  flatlist  intereplace,replace, for e in strdeeplistsplit, You are indeed right , ᴡʜᴀᴄᴋᴀᴍᴀᴅᴏᴏᴅʟᴇs proposal wont work with multiple digit numbers, I also didnt test this before although it should be obvious You could simplify your code and write intestrip  for e in strdeeplistsplit, But Id suggest to stick with Deleets proposal for real use cases It doesnt contain hacky type transformations, its faster and more versatile because it naturally also handles lists with mixed types Unfortunately no But I saw this code recently here Python Practice Book', 'now your solution is inefficient And with any sequence, sumflattene for e in itr, tuple is highly inefficient, juanpaarrivillaga Your comment made me think about improving my answer and I think I found a better one, what do you think?', 'number of arrays by average size of array?', 'Sara can you define huge please?', 'Theres an indepth discussion of this here rightfootinblogspotcommoreonpythonflattenhtml, discussing several methods of flattening arbitrarily nested lists of lists An interesting read!']\n",
      "[{'sentence': 'Theres an indepth discussion of this here rightfootinblogspotcommoreonpythonflattenhtml, discussing several methods of flattening arbitrarily nested lists of lists An interesting read!', 'positive': 0.8688, 'neutral': 0.1278, 'negative': 0.0035}, {'sentence': 'Thats just a more complicated and a bit slower way of what ᴡʜᴀᴄᴋᴀᴍᴀᴅᴏᴏᴅʟᴇ already posted before I reinvented his proposal yesterday, so this approach seems quite popular these days ; Not quite wierdlist  , , , , , , , , ,   nicelist, , , , , , , , , ,  my code as one liner would be  flatlist  intereplace,replace, for e in strdeeplistsplit, You are indeed right , ᴡʜᴀᴄᴋᴀᴍᴀᴅᴏᴏᴅʟᴇs proposal wont work with multiple digit numbers, I also didnt test this before although it should be obvious You could simplify your code and write intestrip  for e in strdeeplistsplit, But Id suggest to stick with Deleets proposal for real use cases It doesnt contain hacky type transformations, its faster and more versatile because it naturally also handles lists with mixed types Unfortunately no But I saw this code recently here Python Practice Book  Theres an indepth discussion of this here rightfootinblogspotcommoreonpythonflattenhtml, discussing several methods of flattening arbitrarily nested lists of lists An interesting read!', 'neutral': 0.7, 'positive': 0.1876, 'negative': 0.1124}, {'sentence': 'Thats just a more complicated and a bit slower way of what ᴡʜᴀᴄᴋᴀᴍᴀᴅᴏᴏᴅʟᴇ already posted before I reinvented his proposal yesterday, so this approach seems quite popular these days ; Not quite wierdlist  , , , , , , , , ,   nicelist, , , , , , , , , ,  my code as one liner would be  flatlist  intereplace,replace, for e in strdeeplistsplit, You are indeed right , ᴡʜᴀᴄᴋᴀᴍᴀᴅᴏᴏᴅʟᴇs proposal wont work with multiple digit numbers, I also didnt test this before although it should be obvious You could simplify your code and write intestrip  for e in strdeeplistsplit, But Id suggest to stick with Deleets proposal for real use cases It doesnt contain hacky type transformations, its faster and more versatile because it naturally also handles lists with mixed types Unfortunately no But I saw this code recently here Python Practice Book', 'neutral': 0.7028, 'positive': 0.1571, 'negative': 0.1401}, {'sentence': 'fromiterable fetch the nested lists directly from the top list To make this more readable, you can make a simple function def flattenlistdeeplist listlistobject return listchainfromiterabledeeplist The type hinting improves the clarity of whats going on modern IDEs would interpret this as returning a listobject type thats pretty neat and clever but I wouldnt use it because its confusing to read This is a Shlemiel the painters algorithm joelonsoftwarecomarticlesfoghtml  unnecessarily inefficient as well as unnecessarily ugly The append operation on lists forms a Monoid, which is one of the most convenient abstractions for thinking of a  operation in a general sense not limited to numbers only So this answer deserves a  from me for correct treatment of lists as a monoid The performance is concerning though this is a very inefficient way because of the quadratic aspect of the sum This article explains the maths of the inefficiency mathieularosecomhownottoflattenalistoflistsinpython For huge nested lists, listnumpyarrayaflat is the fastest among all functions above Is there a way to do a d perfplot?', 'neutral': 0.6677, 'negative': 0.2021, 'positive': 0.1302}, {'sentence': 'stackoverflowcomquestions… this article explain the difference between an npflatten and a tfflatten use static vs dynamic ndarray I tried a test with the same data, using itertoolschainfromiterable   python mtimeit sfrom itertools import chain; l,,,,,, , , listchainfromiterablel It runs a bit more than twice as fast as the nested list comprehension thats the fastest of the alternatives shown here I found the syntax hard to understand until I realized you can think of it exactly like nested for loops for sublist in l for item in sublist yield item leaf for tree in forest for leaf in tree might be easier to comprehend and apply RobCrowell Same here To me the list comprehension one doesnt read right, something feels off about it  I always seem to get it wrong and end up googling To me this reads right leaf for leaf in tree for tree in forest I wish this is how it was I am sure I am missing something about the grammar here, and I would appreciate if anyone could point that out I kept looking here every time I wanted to flatten a list, but this gif is what drove it home istackimgurcomGoVgif The  is the tricky thing that makes chain less straightforward than the list comprehension You have to know that chain only joins together the iterables passed as parameters, and the  causes the toplevel list to be expanded into parameters, so chain joins together all those iterables, but doesnt descend further I think this makes the comprehension more readable than the use of chain in this case TimDierks Im not sure this requires you to understand Python syntax is an argument against using a given technique in Python Sure, complex usage could confuse, but the splat operator is generally useful in many circumstances, and this isnt using it in a particularly obscure way; rejecting all language features that arent necessarily obvious to beginning users means youre tying one hand behind your back May as well throw out list comprehensions too while youre at it; users from other backgrounds would find a for loop that repeatedly appends more obvious  creates an intermediary tuple!', 'neutral': 0.8296, 'positive': 0.1183, 'negative': 0.0522}, {'sentence': 'Doesnt work for unevenly nested lists like , , , , ,  juanpaarrivillaga its a simple and natural extension of the question, though Answers that can handle greater depth of nesting are more likely to be useful to someone who finds this question If you are still interested in Python  compatibility, change yield from to a for loop, eg for x in flatteni yield x Fails for python for the example nested list in the question , , , , , , , ,  Why extendl instead of appendl?', 'neutral': 0.6413, 'negative': 0.2444, 'positive': 0.1144}, {'sentence': 'number of arrays by average size of array?', 'neutral': 0.8574, 'positive': 0.0746, 'negative': 0.0679}, {'sentence': 'Sara can you define huge please?', 'neutral': 0.8903, 'positive': 0.0701, 'negative': 0.0395}, {'sentence': 'Tried numpyflat on the test example from Rossetta Code link and got VisibleDeprecationWarning Creating an ndarray from ragged nested sequences which is a listortuple of listsortuplesor ndarrays with different lengths or shapes is deprecated If you meant to do this, you must specify dtypeobject when creating the ndarray One option missed above which shows up faster for my particular case i just items  ; for sublist in a itemsextendsublist; return sublist This is a Shlemiel the painters algorithm joelonsoftwarecomarticlesfoghtml reduce is very inefficient for this use case as it will repeat copies and generate many unused temporary lists On in both time and possibly space, depending on how the GC decides to clean Its better to use append or extend I just wrote pretty much the same, because I didnt see your solution  here is what I looked for recursively flatten complete multiple lists   MartinThoma Much appreciated FYI, if flattening nested iterables is a common practice for you, there are some thirdparty packages that handle this well This may save from reinventing the wheel Ive mentioned moreitertools among others discussed in this post Cheers Maybe traverse could also be a good name for this way of a tree, whereas Id keep it less universal for this answer by sticking to nested lists You can check if hasattrx, iter instead of importingchecking against Iterable and that will exclude strings as well the above code doesnt seem to work for if one of the nested lists is having a list of strings , , , , , , , , ssssss, str, sss, ss, , ,  output , , , , , , , ssssss, , ,  OP doesnt mention they want to use numpy Python has good ways of doing this without relying on a library If you can afford adding a package to your project  this answer is best it fails when all elements are not list eg lst, , of course integer is not iterable also, mind that list of strings will be flattened to a list of characters extend is better used as newlist  , extend  newlistextend, for sublist in l extendl as it avoids the rather large overhead of the lambda, the attribute lookup on x, and the or for python  add from functools import reduce This answer is already up in this question stackoverflowcoma Neat!', 'neutral': 0.6367, 'negative': 0.2987, 'positive': 0.0647}, {'sentence': 'now your solution is inefficient And with any sequence, sumflattene for e in itr, tuple is highly inefficient, juanpaarrivillaga Your comment made me think about improving my answer and I think I found a better one, what do you think?', 'negative': 0.7971, 'neutral': 0.1837, 'positive': 0.0192}, {'sentence': 'Though the other answer here, stackoverflowcoma, explains the reasons this solution should generally be avoided its inefficient and confusing Will also give a TypeError if your list contains a tuple why would you use a tuple?', 'negative': 0.748, 'neutral': 0.2404, 'positive': 0.0116}]\n"
     ]
    }
   ],
   "source": [
    "from transformers import AutoTokenizer, AutoModelForSequenceClassification, AutoConfig\n",
    "from scipy.special import softmax\n",
    "import numpy as np\n",
    "from array import array\n",
    "\n",
    "tokenizer = AutoTokenizer.from_pretrained(\"cardiffnlp/twitter-roberta-base-sentiment-latest\")\n",
    "config = AutoConfig.from_pretrained(\"cardiffnlp/twitter-roberta-base-sentiment-latest\")\n",
    "model = AutoModelForSequenceClassification.from_pretrained(\"cardiffnlp/twitter-roberta-base-sentiment-latest\")\n",
    "\n",
    "list_of_sentences = [sentence[0] for sentence in sorted(sentence_scores.items(), key=lambda x: x[1], reverse=True)]\n",
    "\n",
    "print(list_of_sentences)\n",
    "\n",
    "output = model(**tokenizer(list_of_sentences, padding=True, truncation=True, return_tensors=\"pt\"))\n",
    "\n",
    "list_of_sentences_with_sentiment = []\n",
    "\n",
    "for j in range(len(list_of_sentences)):\n",
    "  scores = output[0][j].detach().numpy()\n",
    "  scores = softmax(scores)\n",
    "  ranking = np.argsort(scores)\n",
    "  ranking = ranking[::-1]\n",
    "  for i in range(scores.shape[0]):\n",
    "      l = config.id2label[ranking[i]]\n",
    "      s = scores[ranking[i]]\n",
    "\n",
    "      if(list_of_sentences[j] not in [ sentence['sentence'] for sentence in list_of_sentences_with_sentiment]):\n",
    "        list_of_sentences_with_sentiment.append(\n",
    "          {\n",
    "            'sentence': list_of_sentences[j],\n",
    "            l:  np.round(float(s), 4),\n",
    "          }\n",
    "        )\n",
    "      else:\n",
    "        index =  [ sentence['sentence'] for sentence in list_of_sentences_with_sentiment].index(list_of_sentences[j])\n",
    "        list_of_sentences_with_sentiment[index][l] = np.round(float(s), 4)\n",
    "      \n",
    "sorted_sentence_list_based_on_sentiment = sorted(list_of_sentences_with_sentiment, key=lambda x: x['positive'], reverse=True)\n",
    "print(sorted_sentence_list_based_on_sentiment)"
   ]
  },
  {
   "cell_type": "code",
   "execution_count": 9,
   "metadata": {},
   "outputs": [
    {
     "name": "stdout",
     "output_type": "stream",
     "text": [
      "Theres an indepth discussion of this here rightfootinblogspotcommoreonpythonflattenhtml, discussing several methods of flattening arbitrarily nested lists of lists An interesting read! Thats just a more complicated and a bit slower way of what ᴡʜᴀᴄᴋᴀᴍᴀᴅᴏᴏᴅʟᴇ already posted before I reinvented his proposal yesterday, so this approach seems quite popular these days ; Not quite wierdlist  , , , , , , , , ,   nicelist, , , , , , , , , ,  my code as one liner would be  flatlist  intereplace,replace, for e in strdeeplistsplit, You are indeed right , ᴡʜᴀᴄᴋᴀᴍᴀᴅᴏᴏᴅʟᴇs proposal wont work with multiple digit numbers, I also didnt test this before although it should be obvious You could simplify your code and write intestrip  for e in strdeeplistsplit, But Id suggest to stick with Deleets proposal for real use cases It doesnt contain hacky type transformations, its faster and more versatile because it naturally also handles lists with mixed types Unfortunately no But I saw this code recently here Python Practice Book  Theres an indepth discussion of this here rightfootinblogspotcommoreonpythonflattenhtml, discussing several methods of flattening arbitrarily nested lists of lists An interesting read! Thats just a more complicated and a bit slower way of what ᴡʜᴀᴄᴋᴀᴍᴀᴅᴏᴏᴅʟᴇ already posted before I reinvented his proposal yesterday, so this approach seems quite popular these days ; Not quite wierdlist  , , , , , , , , ,   nicelist, , , , , , , , , ,  my code as one liner would be  flatlist  intereplace,replace, for e in strdeeplistsplit, You are indeed right , ᴡʜᴀᴄᴋᴀᴍᴀᴅᴏᴏᴅʟᴇs proposal wont work with multiple digit numbers, I also didnt test this before although it should be obvious You could simplify your code and write intestrip  for e in strdeeplistsplit, But Id suggest to stick with Deleets proposal for real use cases It doesnt contain hacky type transformations, its faster and more versatile because it naturally also handles lists with mixed types Unfortunately no But I saw this code recently here Python Practice Book fromiterable fetch the nested lists directly from the top list To make this more readable, you can make a simple function def flattenlistdeeplist listlistobject return listchainfromiterabledeeplist The type hinting improves the clarity of whats going on modern IDEs would interpret this as returning a listobject type thats pretty neat and clever but I wouldnt use it because its confusing to read This is a Shlemiel the painters algorithm joelonsoftwarecomarticlesfoghtml  unnecessarily inefficient as well as unnecessarily ugly The append operation on lists forms a Monoid, which is one of the most convenient abstractions for thinking of a  operation in a general sense not limited to numbers only So this answer deserves a  from me for correct treatment of lists as a monoid The performance is concerning though this is a very inefficient way because of the quadratic aspect of the sum This article explains the maths of the inefficiency mathieularosecomhownottoflattenalistoflistsinpython For huge nested lists, listnumpyarrayaflat is the fastest among all functions above Is there a way to do a d perfplot? stackoverflowcomquestions… this article explain the difference between an npflatten and a tfflatten use static vs dynamic ndarray I tried a test with the same data, using itertoolschainfromiterable   python mtimeit sfrom itertools import chain; l,,,,,, , , listchainfromiterablel It runs a bit more than twice as fast as the nested list comprehension thats the fastest of the alternatives shown here I found the syntax hard to understand until I realized you can think of it exactly like nested for loops for sublist in l for item in sublist yield item leaf for tree in forest for leaf in tree might be easier to comprehend and apply RobCrowell Same here To me the list comprehension one doesnt read right, something feels off about it  I always seem to get it wrong and end up googling To me this reads right leaf for leaf in tree for tree in forest I wish this is how it was I am sure I am missing something about the grammar here, and I would appreciate if anyone could point that out I kept looking here every time I wanted to flatten a list, but this gif is what drove it home istackimgurcomGoVgif The  is the tricky thing that makes chain less straightforward than the list comprehension You have to know that chain only joins together the iterables passed as parameters, and the  causes the toplevel list to be expanded into parameters, so chain joins together all those iterables, but doesnt descend further I think this makes the comprehension more readable than the use of chain in this case TimDierks Im not sure this requires you to understand Python syntax is an argument against using a given technique in Python Sure, complex usage could confuse, but the splat operator is generally useful in many circumstances, and this isnt using it in a particularly obscure way; rejecting all language features that arent necessarily obvious to beginning users means youre tying one hand behind your back May as well throw out list comprehensions too while youre at it; users from other backgrounds would find a for loop that repeatedly appends more obvious  creates an intermediary tuple! Doesnt work for unevenly nested lists like , , , , ,  juanpaarrivillaga its a simple and natural extension of the question, though Answers that can handle greater depth of nesting are more likely to be useful to someone who finds this question If you are still interested in Python  compatibility, change yield from to a for loop, eg for x in flatteni yield x Fails for python for the example nested list in the question , , , , , , , ,  Why extendl instead of appendl? number of arrays by average size of array? Sara can you define huge please? Tried numpyflat on the test example from Rossetta Code link and got VisibleDeprecationWarning Creating an ndarray from ragged nested sequences which is a listortuple of listsortuplesor ndarrays with different lengths or shapes is deprecated If you meant to do this, you must specify dtypeobject when creating the ndarray One option missed above which shows up faster for my particular case i just items  ; for sublist in a itemsextendsublist; return sublist This is a Shlemiel the painters algorithm joelonsoftwarecomarticlesfoghtml reduce is very inefficient for this use case as it will repeat copies and generate many unused temporary lists On in both time and possibly space, depending on how the GC decides to clean Its better to use append or extend I just wrote pretty much the same, because I didnt see your solution  here is what I looked for recursively flatten complete multiple lists   MartinThoma Much appreciated FYI, if flattening nested iterables is a common practice for you, there are some thirdparty packages that handle this well This may save from reinventing the wheel Ive mentioned moreitertools among others discussed in this post Cheers Maybe traverse could also be a good name for this way of a tree, whereas Id keep it less universal for this answer by sticking to nested lists You can check if hasattrx, iter instead of importingchecking against Iterable and that will exclude strings as well the above code doesnt seem to work for if one of the nested lists is having a list of strings , , , , , , , , ssssss, str, sss, ss, , ,  output , , , , , , , ssssss, , ,  OP doesnt mention they want to use numpy Python has good ways of doing this without relying on a library If you can afford adding a package to your project  this answer is best it fails when all elements are not list eg lst, , of course integer is not iterable also, mind that list of strings will be flattened to a list of characters extend is better used as newlist  , extend  newlistextend, for sublist in l extendl as it avoids the rather large overhead of the lambda, the attribute lookup on x, and the or for python  add from functools import reduce This answer is already up in this question stackoverflowcoma Neat! now your solution is inefficient And with any sequence, sumflattene for e in itr, tuple is highly inefficient, juanpaarrivillaga Your comment made me think about improving my answer and I think I found a better one, what do you think? Though the other answer here, stackoverflowcoma, explains the reasons this solution should generally be avoided its inefficient and confusing Will also give a TypeError if your list contains a tuple why would you use a tuple?\n"
     ]
    }
   ],
   "source": [
    "joined_sentences = ' '.join([sentence['sentence'] for sentence in sorted_sentence_list_based_on_sentiment])\n",
    "\n",
    "print(joined_sentences)"
   ]
  },
  {
   "cell_type": "code",
   "execution_count": 10,
   "metadata": {},
   "outputs": [
    {
     "name": "stderr",
     "output_type": "stream",
     "text": [
      "/Users/shaun/miniforge3/lib/python3.9/site-packages/transformers/generation/utils.py:1387: UserWarning: Neither `max_length` nor `max_new_tokens` has been set, `max_length` will default to 142 (`self.config.max_length`). Controlling `max_length` via the config is deprecated and `max_length` will be removed from the config in v5 of Transformers -- we recommend using `max_new_tokens` to control the maximum length of the generation.\n",
      "  warnings.warn(\n"
     ]
    },
    {
     "name": "stdout",
     "output_type": "stream",
     "text": [
      "Theres an indepth discussion of this here rightfootinblogspotcommoreonpythonflattenhtml, discussing several methods of flattening arbitrarily nested lists of lists. An interesting read! Click here to read the rest of the article. Click here for the full article.\n"
     ]
    }
   ],
   "source": [
    "from transformers import AutoTokenizer, AutoModelForSeq2SeqLM\n",
    "\n",
    "tokenizer = AutoTokenizer.from_pretrained(\"facebook/bart-large-cnn\")\n",
    "\n",
    "model = AutoModelForSeq2SeqLM.from_pretrained(\"facebook/bart-large-cnn\")\n",
    "input_ids = tokenizer.encode(sorted_sentence_list_based_on_sentiment[0]['sentence'], return_tensors='pt')\n",
    "\n",
    "summary_ids = model.generate(input_ids)\n",
    "\n",
    "print(tokenizer.decode(summary_ids[0], skip_special_tokens=True))"
   ]
  },
  {
   "cell_type": "markdown",
   "metadata": {},
   "source": [
    "-Thursday- \n",
    "Rescrap all the data with codes structure in html \n",
    "\n",
    "-Friday-\n",
    "Maybe we can think of summarizing before sentiment analysis\n",
    "After sentiment analysis, we can judge if the post is indeed good enough."
   ]
  }
 ],
 "metadata": {
  "kernelspec": {
   "display_name": "Python 3 (ipykernel)",
   "language": "python",
   "name": "python3"
  },
  "language_info": {
   "codemirror_mode": {
    "name": "ipython",
    "version": 3
   },
   "file_extension": ".py",
   "mimetype": "text/x-python",
   "name": "python",
   "nbconvert_exporter": "python",
   "pygments_lexer": "ipython3",
   "version": "3.9.10"
  },
  "vscode": {
   "interpreter": {
    "hash": "f50f518e30a1733e8e8c8b608de131219c9974acb0d02ce13c65eb2a815a608c"
   }
  }
 },
 "nbformat": 4,
 "nbformat_minor": 2
}
