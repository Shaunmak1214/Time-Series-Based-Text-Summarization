{
 "cells": [
  {
   "cell_type": "code",
   "execution_count": 28,
   "metadata": {},
   "outputs": [],
   "source": [
    "from string import punctuation\n",
    "from nltk.corpus import stopwords\n",
    "from nltk.tokenize import word_tokenize, sent_tokenize\n",
    "from nltk.stem.snowball import SnowballStemmer\n",
    "import nltk\n",
    "import re\n",
    "import string\n",
    "import numpy as np\n",
    "\n",
    "import pandas as pd\n",
    "from fuzzywuzzy import fuzz\n",
    "\n",
    "df = pd.read_csv('./scraper/archive/finalrevision.csv', names=[\"POSTID\", \"POSTLINK\", \"POSTTITLE\", \"POSTBODY\", \"POSTDATE\", \"POSTVOTECOUNTS\", \"COMMENTID\", \"COMMENTSCORE\", \"COMMENTUSERNAME\", \"COMMENTTEXT\", \"COMMENTDATETIME\", \"ANSWERID\", \"ANSWERTEXT\", \"ANSWERBODY\", \"ANSWERDATETIME\", \"ANSWERVOTECOUNTS\", \"ANSWERCMTID\", \"ANSWERCMTTEXT\", \"ANSWERCMTBODY\", \"ANSWERCMTDATETIME\", \"ANSWERCMTVOTECOUNTS\" , \"TYPE\"])"
   ]
  },
  {
   "cell_type": "code",
   "execution_count": 34,
   "metadata": {},
   "outputs": [
    {
     "name": "stdout",
     "output_type": "stream",
     "text": [
      "(2413, 22)\n"
     ]
    },
    {
     "data": {
      "text/html": [
       "<div>\n",
       "<style scoped>\n",
       "    .dataframe tbody tr th:only-of-type {\n",
       "        vertical-align: middle;\n",
       "    }\n",
       "\n",
       "    .dataframe tbody tr th {\n",
       "        vertical-align: top;\n",
       "    }\n",
       "\n",
       "    .dataframe thead th {\n",
       "        text-align: right;\n",
       "    }\n",
       "</style>\n",
       "<table border=\"1\" class=\"dataframe\">\n",
       "  <thead>\n",
       "    <tr style=\"text-align: right;\">\n",
       "      <th></th>\n",
       "      <th>POSTID</th>\n",
       "      <th>POSTLINK</th>\n",
       "      <th>POSTTITLE</th>\n",
       "      <th>POSTBODY</th>\n",
       "      <th>POSTDATE</th>\n",
       "      <th>POSTVOTECOUNTS</th>\n",
       "      <th>COMMENTID</th>\n",
       "      <th>COMMENTSCORE</th>\n",
       "      <th>COMMENTUSERNAME</th>\n",
       "      <th>COMMENTTEXT</th>\n",
       "      <th>...</th>\n",
       "      <th>ANSWERTEXT</th>\n",
       "      <th>ANSWERBODY</th>\n",
       "      <th>ANSWERDATETIME</th>\n",
       "      <th>ANSWERVOTECOUNTS</th>\n",
       "      <th>ANSWERCMTID</th>\n",
       "      <th>ANSWERCMTTEXT</th>\n",
       "      <th>ANSWERCMTBODY</th>\n",
       "      <th>ANSWERCMTDATETIME</th>\n",
       "      <th>ANSWERCMTVOTECOUNTS</th>\n",
       "      <th>TYPE</th>\n",
       "    </tr>\n",
       "  </thead>\n",
       "  <tbody>\n",
       "    <tr>\n",
       "      <th>0</th>\n",
       "      <td>952914</td>\n",
       "      <td>https://stackoverflow.com/questions/952914/how...</td>\n",
       "      <td>How do I make a flat list out of a list of lists?</td>\n",
       "      <td>\\n                \\n&lt;p&gt;I have a list of lists ...</td>\n",
       "      <td>('2009-06-04 20:30:05Z',)</td>\n",
       "      <td>('4977',)</td>\n",
       "      <td>NaN</td>\n",
       "      <td>NaN</td>\n",
       "      <td>NaN</td>\n",
       "      <td>NaN</td>\n",
       "      <td>...</td>\n",
       "      <td>NaN</td>\n",
       "      <td>NaN</td>\n",
       "      <td>NaN</td>\n",
       "      <td>NaN</td>\n",
       "      <td>NaN</td>\n",
       "      <td>NaN</td>\n",
       "      <td>NaN</td>\n",
       "      <td>NaN</td>\n",
       "      <td>NaN</td>\n",
       "      <td>post</td>\n",
       "    </tr>\n",
       "    <tr>\n",
       "      <th>1</th>\n",
       "      <td>952914</td>\n",
       "      <td>https://stackoverflow.com/questions/952914/how...</td>\n",
       "      <td>How do I make a flat list out of a list of lists?</td>\n",
       "      <td>\\n                \\n&lt;p&gt;I have a list of lists ...</td>\n",
       "      <td>('2009-06-04 20:30:05Z',)</td>\n",
       "      <td>('4977',)</td>\n",
       "      <td>comment-24914362</td>\n",
       "      <td>53.0</td>\n",
       "      <td>RichieHindle</td>\n",
       "      <td>There's an in-depth discussion of this here: r...</td>\n",
       "      <td>...</td>\n",
       "      <td>NaN</td>\n",
       "      <td>NaN</td>\n",
       "      <td>NaN</td>\n",
       "      <td>NaN</td>\n",
       "      <td>NaN</td>\n",
       "      <td>NaN</td>\n",
       "      <td>NaN</td>\n",
       "      <td>NaN</td>\n",
       "      <td>NaN</td>\n",
       "      <td>post_comment</td>\n",
       "    </tr>\n",
       "    <tr>\n",
       "      <th>2</th>\n",
       "      <td>952914</td>\n",
       "      <td>https://stackoverflow.com/questions/952914/how...</td>\n",
       "      <td>How do I make a flat list out of a list of lists?</td>\n",
       "      <td>\\n                \\n&lt;p&gt;I have a list of lists ...</td>\n",
       "      <td>('2009-06-04 20:30:05Z',)</td>\n",
       "      <td>('4977',)</td>\n",
       "      <td>comment-115552806</td>\n",
       "      <td>2.0</td>\n",
       "      <td>Golden Lion</td>\n",
       "      <td>stackoverflow.com/questions/50259290/… (this a...</td>\n",
       "      <td>...</td>\n",
       "      <td>NaN</td>\n",
       "      <td>NaN</td>\n",
       "      <td>NaN</td>\n",
       "      <td>NaN</td>\n",
       "      <td>NaN</td>\n",
       "      <td>NaN</td>\n",
       "      <td>NaN</td>\n",
       "      <td>NaN</td>\n",
       "      <td>NaN</td>\n",
       "      <td>post_comment</td>\n",
       "    </tr>\n",
       "    <tr>\n",
       "      <th>3</th>\n",
       "      <td>952914</td>\n",
       "      <td>https://stackoverflow.com/questions/952914/how...</td>\n",
       "      <td>How do I make a flat list out of a list of lists?</td>\n",
       "      <td>\\n                \\n&lt;p&gt;I have a list of lists ...</td>\n",
       "      <td>('2009-06-04 20:30:05Z',)</td>\n",
       "      <td>('4977',)</td>\n",
       "      <td>NaN</td>\n",
       "      <td>NaN</td>\n",
       "      <td>NaN</td>\n",
       "      <td>NaN</td>\n",
       "      <td>...</td>\n",
       "      <td>Given a list of lists l,\\nflat_list = [item fo...</td>\n",
       "      <td>('\\n&lt;p&gt;Given a list of lists &lt;code&gt;l&lt;/code&gt;,&lt;/...</td>\n",
       "      <td>2010-10-15 01:21:33Z, License: CC BY-SA 2.5</td>\n",
       "      <td>('6900',)</td>\n",
       "      <td>NaN</td>\n",
       "      <td>NaN</td>\n",
       "      <td>NaN</td>\n",
       "      <td>NaN</td>\n",
       "      <td>NaN</td>\n",
       "      <td>answer</td>\n",
       "    </tr>\n",
       "    <tr>\n",
       "      <th>4</th>\n",
       "      <td>952914</td>\n",
       "      <td>https://stackoverflow.com/questions/952914/how...</td>\n",
       "      <td>How do I make a flat list out of a list of lists?</td>\n",
       "      <td>\\n                \\n&lt;p&gt;I have a list of lists ...</td>\n",
       "      <td>('2009-06-04 20:30:05Z',)</td>\n",
       "      <td>('4977',)</td>\n",
       "      <td>NaN</td>\n",
       "      <td>NaN</td>\n",
       "      <td>NaN</td>\n",
       "      <td>NaN</td>\n",
       "      <td>...</td>\n",
       "      <td>Given a list of lists l,\\nflat_list = [item fo...</td>\n",
       "      <td>('\\n&lt;p&gt;Given a list of lists &lt;code&gt;l&lt;/code&gt;,&lt;/...</td>\n",
       "      <td>2010-10-15 01:21:33Z, License: CC BY-SA 2.5</td>\n",
       "      <td>('6900',)</td>\n",
       "      <td>('4204394',)</td>\n",
       "      <td>I tried a test with the same data, using itert...</td>\n",
       "      <td>('\\n                \\n                &lt;span cl...</td>\n",
       "      <td>Oct 15, 2010 at 1:21</td>\n",
       "      <td>('617',)</td>\n",
       "      <td>answer_comment</td>\n",
       "    </tr>\n",
       "  </tbody>\n",
       "</table>\n",
       "<p>5 rows × 22 columns</p>\n",
       "</div>"
      ],
      "text/plain": [
       "   POSTID                                           POSTLINK  \\\n",
       "0  952914  https://stackoverflow.com/questions/952914/how...   \n",
       "1  952914  https://stackoverflow.com/questions/952914/how...   \n",
       "2  952914  https://stackoverflow.com/questions/952914/how...   \n",
       "3  952914  https://stackoverflow.com/questions/952914/how...   \n",
       "4  952914  https://stackoverflow.com/questions/952914/how...   \n",
       "\n",
       "                                           POSTTITLE  \\\n",
       "0  How do I make a flat list out of a list of lists?   \n",
       "1  How do I make a flat list out of a list of lists?   \n",
       "2  How do I make a flat list out of a list of lists?   \n",
       "3  How do I make a flat list out of a list of lists?   \n",
       "4  How do I make a flat list out of a list of lists?   \n",
       "\n",
       "                                            POSTBODY  \\\n",
       "0  \\n                \\n<p>I have a list of lists ...   \n",
       "1  \\n                \\n<p>I have a list of lists ...   \n",
       "2  \\n                \\n<p>I have a list of lists ...   \n",
       "3  \\n                \\n<p>I have a list of lists ...   \n",
       "4  \\n                \\n<p>I have a list of lists ...   \n",
       "\n",
       "                    POSTDATE POSTVOTECOUNTS          COMMENTID  COMMENTSCORE  \\\n",
       "0  ('2009-06-04 20:30:05Z',)      ('4977',)                NaN           NaN   \n",
       "1  ('2009-06-04 20:30:05Z',)      ('4977',)   comment-24914362          53.0   \n",
       "2  ('2009-06-04 20:30:05Z',)      ('4977',)  comment-115552806           2.0   \n",
       "3  ('2009-06-04 20:30:05Z',)      ('4977',)                NaN           NaN   \n",
       "4  ('2009-06-04 20:30:05Z',)      ('4977',)                NaN           NaN   \n",
       "\n",
       "  COMMENTUSERNAME                                        COMMENTTEXT  ...  \\\n",
       "0             NaN                                                NaN  ...   \n",
       "1    RichieHindle  There's an in-depth discussion of this here: r...  ...   \n",
       "2     Golden Lion  stackoverflow.com/questions/50259290/… (this a...  ...   \n",
       "3             NaN                                                NaN  ...   \n",
       "4             NaN                                                NaN  ...   \n",
       "\n",
       "                                          ANSWERTEXT  \\\n",
       "0                                                NaN   \n",
       "1                                                NaN   \n",
       "2                                                NaN   \n",
       "3  Given a list of lists l,\\nflat_list = [item fo...   \n",
       "4  Given a list of lists l,\\nflat_list = [item fo...   \n",
       "\n",
       "                                          ANSWERBODY  \\\n",
       "0                                                NaN   \n",
       "1                                                NaN   \n",
       "2                                                NaN   \n",
       "3  ('\\n<p>Given a list of lists <code>l</code>,</...   \n",
       "4  ('\\n<p>Given a list of lists <code>l</code>,</...   \n",
       "\n",
       "                                ANSWERDATETIME ANSWERVOTECOUNTS   ANSWERCMTID  \\\n",
       "0                                          NaN              NaN           NaN   \n",
       "1                                          NaN              NaN           NaN   \n",
       "2                                          NaN              NaN           NaN   \n",
       "3  2010-10-15 01:21:33Z, License: CC BY-SA 2.5        ('6900',)           NaN   \n",
       "4  2010-10-15 01:21:33Z, License: CC BY-SA 2.5        ('6900',)  ('4204394',)   \n",
       "\n",
       "                                       ANSWERCMTTEXT  \\\n",
       "0                                                NaN   \n",
       "1                                                NaN   \n",
       "2                                                NaN   \n",
       "3                                                NaN   \n",
       "4  I tried a test with the same data, using itert...   \n",
       "\n",
       "                                       ANSWERCMTBODY     ANSWERCMTDATETIME  \\\n",
       "0                                                NaN                   NaN   \n",
       "1                                                NaN                   NaN   \n",
       "2                                                NaN                   NaN   \n",
       "3                                                NaN                   NaN   \n",
       "4  ('\\n                \\n                <span cl...  Oct 15, 2010 at 1:21   \n",
       "\n",
       "  ANSWERCMTVOTECOUNTS            TYPE  \n",
       "0                 NaN            post  \n",
       "1                 NaN    post_comment  \n",
       "2                 NaN    post_comment  \n",
       "3                 NaN          answer  \n",
       "4            ('617',)  answer_comment  \n",
       "\n",
       "[5 rows x 22 columns]"
      ]
     },
     "execution_count": 34,
     "metadata": {},
     "output_type": "execute_result"
    }
   ],
   "source": [
    "ALL_COLS = [\"POSTID\", \"POSTLINK\", \"POSTTITLE\", \"POSTBODY\", \"POSTDATE\", \"POSTVOTECOUNTS\", \"COMMENTID\", \"COMMENTSCORE\", \"COMMENTUSERNAME\", \"COMMENTTEXT\", \"COMMENTDATETIME\", \"ANSWERID\", \"ANSWERTEXT\", \"ANSWERBODY\", \"ANSWERDATETIME\", \"ANSWERVOTECOUNTS\", \"ANSWERCMTID\", \"ANSWERCMTTEXT\", \"ANSWERCMTBODY\", \"ANSWERCMTDATETIME\", \"ANSWERCMTVOTECOUNTS\" , \"TYPE\"]\n",
    "\n",
    "dPOST  = pd.DataFrame(columns=ALL_COLS)\n",
    "dPOST = df.copy()\n",
    "print(dPOST.shape)\n",
    "dPOST.head()"
   ]
  },
  {
   "attachments": {},
   "cell_type": "markdown",
   "metadata": {},
   "source": [
    "## Analyze how often the topic has been brought up"
   ]
  },
  {
   "cell_type": "code",
   "execution_count": 32,
   "metadata": {},
   "outputs": [
    {
     "name": "stdout",
     "output_type": "stream",
     "text": [
      "0       '2009-06-04 20:30:05Z',\n",
      "1       '2009-06-04 20:30:05Z',\n",
      "2       '2009-06-04 20:30:05Z',\n",
      "3       '2009-06-04 20:30:05Z',\n",
      "4       '2009-06-04 20:30:05Z',\n",
      "                 ...           \n",
      "2408    '2022-06-16 18:19:44Z',\n",
      "2409    '2022-06-16 18:19:44Z',\n",
      "2410    '2022-06-16 18:19:44Z',\n",
      "2411    '2022-06-16 18:19:44Z',\n",
      "2412    '2022-06-16 18:19:44Z',\n",
      "Name: POSTDATE, Length: 2413, dtype: object\n"
     ]
    },
    {
     "name": "stderr",
     "output_type": "stream",
     "text": [
      "/var/folders/x0/f6tjyw_s7vqbx5gcpvt0z31w0000gn/T/ipykernel_7610/3482655505.py:2: FutureWarning: The default value of regex will change from True to False in a future version. In addition, single character regular expressions will *not* be treated as literal strings when regex=True.\n",
      "  dPOST['POSTDATE'] = dPOST['POSTDATE'].str.replace('(', '')\n",
      "/var/folders/x0/f6tjyw_s7vqbx5gcpvt0z31w0000gn/T/ipykernel_7610/3482655505.py:3: FutureWarning: The default value of regex will change from True to False in a future version. In addition, single character regular expressions will *not* be treated as literal strings when regex=True.\n",
      "  dPOST['POSTDATE'] = dPOST['POSTDATE'].str.replace(')', '')\n"
     ]
    },
    {
     "data": {
      "text/plain": [
       "<AxesSubplot:xlabel='POSTDATE'>"
      ]
     },
     "execution_count": 32,
     "metadata": {},
     "output_type": "execute_result"
    },
    {
     "data": {
      "image/png": "[encoded data removed]",
      "text/plain": [
       "<Figure size 432x288 with 1 Axes>"
      ]
     },
     "metadata": {
      "needs_background": "light"
     },
     "output_type": "display_data"
    }
   ],
   "source": [
    "# clean the date strings\n",
    "dPOST['POSTDATE'] = dPOST['POSTDATE'].str.replace('(', '')\n",
    "dPOST['POSTDATE'] = dPOST['POSTDATE'].str.replace(')', '')\n",
    "\n",
    "dPOST['POSTDATE'] = pd.to_datetime(dPOST['POSTDATE'])\n",
    "dPOST['POSTDATE'] = dPOST['POSTDATE'].dt.date\n",
    "dPOST['POSTDATE'] = pd.to_datetime(dPOST['POSTDATE'])\n",
    "dPOST = dPOST.set_index('POSTDATE')\n",
    "dPOST = dPOST.groupby(pd.Grouper(freq='D')).count()\n",
    "dPOST['POSTID'].plot()"
   ]
  },
  {
   "attachments": {},
   "cell_type": "markdown",
   "metadata": {},
   "source": [
    "## Analyze each question's time span"
   ]
  },
  {
   "cell_type": "code",
   "execution_count": 36,
   "metadata": {},
   "outputs": [
    {
     "data": {
      "text/plain": [
       "(140, 22)"
      ]
     },
     "execution_count": 36,
     "metadata": {},
     "output_type": "execute_result"
    }
   ],
   "source": [
    "dTS = df.copy()\n",
    "target = \"How do I make a flat list out of a list of lists?\"\n",
    "\n",
    "dTS = dTS[dTS['POSTTITLE'] == target]\n",
    "dTS.shape"
   ]
  },
  {
   "cell_type": "code",
   "execution_count": 39,
   "metadata": {},
   "outputs": [
    {
     "data": {
      "text/plain": [
       "\"('2009-06-04 20:30:05Z',)\""
      ]
     },
     "execution_count": 39,
     "metadata": {},
     "output_type": "execute_result"
    }
   ],
   "source": [
    "post_date = dTS['POSTDATE'].unique()[0]\n",
    "post_date"
   ]
  },
  {
   "cell_type": "code",
   "execution_count": 51,
   "metadata": {},
   "outputs": [
    {
     "data": {
      "text/plain": [
       "['2009-06-04 20:41:13Z', '2020-12-18 16:48:11Z']"
      ]
     },
     "execution_count": 51,
     "metadata": {},
     "output_type": "execute_result"
    }
   ],
   "source": [
    "comment_date = dTS['COMMENTDATETIME'].unique()\n",
    "comment_date = comment_date[~pd.isnull(comment_date)]\n",
    "\n",
    "comment_date = [x.split(',') for x in comment_date]\n",
    "comment_date = [x[0] for x in comment_date]\n",
    "comment_date"
   ]
  },
  {
   "cell_type": "code",
   "execution_count": 52,
   "metadata": {},
   "outputs": [
    {
     "data": {
      "text/plain": [
       "['2010-10-15 01:21:33Z',\n",
       " '2014-09-03 14:13:45Z',\n",
       " '2010-06-15 18:55:14Z',\n",
       " '2019-01-20 13:57:20Z',\n",
       " '2012-04-25 18:26:07Z',\n",
       " '2017-03-25 15:32:05Z']"
      ]
     },
     "execution_count": 52,
     "metadata": {},
     "output_type": "execute_result"
    }
   ],
   "source": [
    "answer_date = dTS['ANSWERDATETIME'].unique()\n",
    "answer_date = answer_date[~pd.isnull(answer_date)]\n",
    "\n",
    "answer_date = [x.split(',') for x in answer_date]\n",
    "answer_date = [x[0] for x in answer_date]\n",
    "answer_date"
   ]
  },
  {
   "cell_type": "code",
   "execution_count": 58,
   "metadata": {},
   "outputs": [
    {
     "data": {
      "text/plain": [
       "['Oct 15 2010  1:21',\n",
       " 'Jul 27 2011  16:43',\n",
       " 'Aug 29 2013  1:38',\n",
       " 'Jul 12 2021  17:19',\n",
       " 'Aug 11 2021  12:04',\n",
       " 'Sep 3 2014  14:13',\n",
       " 'Nov 12 2015  20:26',\n",
       " 'Oct 21 2021  3:35',\n",
       " 'Oct 25 2021  14:34',\n",
       " 'Jun 15 2010  18:55',\n",
       " 'Apr 25 2012  18:24',\n",
       " 'Dec 3 2014  10:35',\n",
       " 'Jul 31 2017  18:04',\n",
       " 'Jan 4 2018  16:46',\n",
       " 'Jan 20 2019  13:57',\n",
       " 'Apr 30 2020  0:31',\n",
       " 'Nov 14 2020  6:05',\n",
       " 'Dec 5 2020  11:08',\n",
       " 'Oct 11 2021  17:05',\n",
       " 'Apr 25 2012  18:26',\n",
       " 'Oct 2 2020  17:00',\n",
       " 'Mar 25 2017  15:32',\n",
       " 'Mar 25 2017  17:51',\n",
       " 'Jun 15 2017  10:22',\n",
       " 'Apr 30 2018  16:46',\n",
       " 'Jun 12 2019  21:35']"
      ]
     },
     "execution_count": 58,
     "metadata": {},
     "output_type": "execute_result"
    }
   ],
   "source": [
    "answer_cmt_date = dTS['ANSWERCMTDATETIME'].unique()\n",
    "answer_cmt_date = answer_cmt_date[~pd.isnull(answer_cmt_date)]\n",
    "answer_cmt_date = [x.replace('at', '') for x in answer_cmt_date]\n",
    "answer_cmt_date = [x.replace(',', '') for x in answer_cmt_date]\n",
    "answer_cmt_date"
   ]
  },
  {
   "cell_type": "code",
   "execution_count": 77,
   "metadata": {},
   "outputs": [
    {
     "name": "stderr",
     "output_type": "stream",
     "text": [
      "/var/folders/x0/f6tjyw_s7vqbx5gcpvt0z31w0000gn/T/ipykernel_7610/4259393917.py:9: FutureWarning: The frame.append method is deprecated and will be removed from pandas in a future version. Use pandas.concat instead.\n",
      "  timedf = timedf.append(pd.DataFrame({'date': answer_date, 'type': 'answer'}), ignore_index=True)\n",
      "/var/folders/x0/f6tjyw_s7vqbx5gcpvt0z31w0000gn/T/ipykernel_7610/4259393917.py:10: FutureWarning: The frame.append method is deprecated and will be removed from pandas in a future version. Use pandas.concat instead.\n",
      "  timedf = timedf.append(pd.DataFrame({'date': comment_date, 'type': 'comment'}), ignore_index=True)\n"
     ]
    },
    {
     "data": {
      "text/plain": [
       "<AxesSubplot:xlabel='date'>"
      ]
     },
     "execution_count": 77,
     "metadata": {},
     "output_type": "execute_result"
    },
    {
     "data": {
      "image/png": "[encoded data removed]",
      "text/plain": [
       "<Figure size 432x288 with 1 Axes>"
      ]
     },
     "metadata": {
      "needs_background": "light"
     },
     "output_type": "display_data"
    }
   ],
   "source": [
    "import plotly.express as px\n",
    "import datetime\n",
    "import pytz\n",
    "\n",
    "utc=pytz.UTC\n",
    "\n",
    "timedf = pd.DataFrame(columns=['date', 'type'])\n",
    "\n",
    "timedf = timedf.append(pd.DataFrame({'date': answer_date, 'type': 'answer'}), ignore_index=True)\n",
    "timedf = timedf.append(pd.DataFrame({'date': comment_date, 'type': 'comment'}), ignore_index=True)\n",
    "# timedf = timedf.append(pd.DataFrame({'date': answer_cmt_date, 'type': 'answer_comment'}), ignore_index=True)\n",
    "\n",
    "timedf['date'] = pd.to_datetime(timedf['date'])\n",
    "timedf = timedf.set_index('date')\n",
    "timedf = timedf.groupby(pd.Grouper(freq='Y')).count()\n",
    "timedf.plot()\n"
   ]
  }
 ],
 "metadata": {
  "kernelspec": {
   "display_name": "base",
   "language": "python",
   "name": "python3"
  },
  "language_info": {
   "codemirror_mode": {
    "name": "ipython",
    "version": 3
   },
   "file_extension": ".py",
   "mimetype": "text/x-python",
   "name": "python",
   "nbconvert_exporter": "python",
   "pygments_lexer": "ipython3",
   "version": "3.9.10"
  },
  "orig_nbformat": 4,
  "vscode": {
   "interpreter": {
    "hash": "f50f518e30a1733e8e8c8b608de131219c9974acb0d02ce13c65eb2a815a608c"
   }
  }
 },
 "nbformat": 4,
 "nbformat_minor": 2
}
