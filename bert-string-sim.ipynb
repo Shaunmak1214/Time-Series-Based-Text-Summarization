{
 "cells": [
  {
   "cell_type": "code",
   "execution_count": 1,
   "metadata": {},
   "outputs": [
    {
     "name": "stderr",
     "output_type": "stream",
     "text": [
      "Some weights of the model checkpoint at roberta-large-mnli were not used when initializing RobertaForSequenceClassification: ['roberta.pooler.dense.bias', 'roberta.pooler.dense.weight']\n",
      "- This IS expected if you are initializing RobertaForSequenceClassification from the checkpoint of a model trained on another task or with another architecture (e.g. initializing a BertForSequenceClassification model from a BertForPreTraining model).\n",
      "- This IS NOT expected if you are initializing RobertaForSequenceClassification from the checkpoint of a model that you expect to be exactly identical (initializing a BertForSequenceClassification model from a BertForSequenceClassification model).\n"
     ]
    },
    {
     "name": "stdout",
     "output_type": "stream",
     "text": [
      "2.0751564e-07\n",
      "0.49342465\n",
      "0.9423698\n"
     ]
    }
   ],
   "source": [
    "import torch\n",
    "from transformers import AutoTokenizer, AutoModelForSequenceClassification\n",
    "\n",
    "tokenizer = AutoTokenizer.from_pretrained(\"roberta-large-mnli\")\n",
    "model = AutoModelForSequenceClassification.from_pretrained(\"roberta-large-mnli\")\n",
    "\n",
    "def test_entailment(text1, text2):\n",
    "    batch = tokenizer(text1, text2, return_tensors='pt').to(model.device)\n",
    "    with torch.no_grad():\n",
    "        proba = torch.softmax(model(**batch).logits, -1)\n",
    "    return proba.cpu().numpy()[0, model.config.label2id['ENTAILMENT']]\n",
    "\n",
    "def test_equivalence(text1, text2):\n",
    "    return test_entailment(text1, text2) * test_entailment(text2, text1)\n",
    "\n",
    "print(test_equivalence(\"I'm a good person\", \"I'm not a good person\"))  # 2.0751484e-07\n",
    "print(test_equivalence(\"I'm a good person\", \"You are a good person\"))  # 0.49342492\n",
    "print(test_equivalence(\"I'm a good person\", \"I'm not a bad person\"))  "
   ]
  },
  {
   "cell_type": "code",
   "execution_count": 2,
   "metadata": {},
   "outputs": [
    {
     "name": "stdout",
     "output_type": "stream",
     "text": [
      "0.46929085\n",
      "0.31221985816955566\n"
     ]
    }
   ],
   "source": [
    "import time\n",
    "\n",
    "start = time.time()\n",
    "print(test_equivalence(\"What is the correct way to check for string equality in JavaScript?\", \"how to compare two strings in javascript\"))\n",
    "end = time.time()\n",
    "print(end - start)"
   ]
  }
 ],
 "metadata": {
  "kernelspec": {
   "display_name": "base",
   "language": "python",
   "name": "python3"
  },
  "language_info": {
   "codemirror_mode": {
    "name": "ipython",
    "version": 3
   },
   "file_extension": ".py",
   "mimetype": "text/x-python",
   "name": "python",
   "nbconvert_exporter": "python",
   "pygments_lexer": "ipython3",
   "version": "3.9.10"
  },
  "orig_nbformat": 4
 },
 "nbformat": 4,
 "nbformat_minor": 2
}
