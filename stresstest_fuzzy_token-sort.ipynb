{
 "cells": [
  {
   "cell_type": "code",
   "execution_count": 1,
   "id": "400cc46a",
   "metadata": {},
   "outputs": [
    {
     "name": "stderr",
     "output_type": "stream",
     "text": [
      "/Users/shaun/miniforge3/lib/python3.9/site-packages/fuzzywuzzy/fuzz.py:11: UserWarning: Using slow pure-python SequenceMatcher. Install python-Levenshtein to remove this warning\n",
      "  warnings.warn('Using slow pure-python SequenceMatcher. Install python-Levenshtein to remove this warning')\n"
     ]
    }
   ],
   "source": [
    "from string import punctuation\n",
    "from nltk.corpus import stopwords\n",
    "from nltk.tokenize import word_tokenize, sent_tokenize\n",
    "from nltk.stem.snowball import SnowballStemmer\n",
    "import nltk\n",
    "import re\n",
    "import string\n",
    "import numpy as np\n",
    "import pandas as pd\n",
    "from fuzzywuzzy import fuzz\n",
    "from nltk.corpus import stopwords\n",
    "import heapq\n",
    "import yaml\n",
    "from nltk.stem import WordNetLemmatizer, PorterStemmer\n",
    "\n",
    "from transformers import AutoTokenizer, AutoModelForSequenceClassification, AutoConfig\n",
    "from scipy.special import softmax\n",
    "import numpy as np\n",
    "from array import array\n",
    "import copy\n",
    "\n",
    "import time\n",
    "\n",
    "start = time.time()\n",
    "\n",
    "questions = pd.read_csv('questions.csv')\n",
    "questions = questions.drop(columns=['id', 'qid1', 'qid2'])"
   ]
  },
  {
   "cell_type": "code",
   "execution_count": 2,
   "id": "521e2bd8",
   "metadata": {},
   "outputs": [],
   "source": [
    "def calPartialRatio (str1, str2):\n",
    "    return fuzz.partial_ratio(str1, str2)\n",
    "\n",
    "def calTokenSortRatio (str1, str2):\n",
    "    return fuzz.token_sort_ratio(str1, str2)"
   ]
  },
  {
   "cell_type": "code",
   "execution_count": 3,
   "id": "a62ed50d",
   "metadata": {},
   "outputs": [
    {
     "name": "stderr",
     "output_type": "stream",
     "text": [
      "100%|██████████| 404351/404351 [49:44<00:00, 135.47it/s]\n"
     ]
    }
   ],
   "source": [
    "from tqdm import tqdm\n",
    "\n",
    "resulting_df = pd.DataFrame(columns=['question1', 'question2', 'result', 'transcribed_result'])\n",
    "\n",
    "for index, row in tqdm(questions.iterrows(), total=questions.shape[0]):\n",
    "    question_a = row['question1']\n",
    "    question_b = row['question2']\n",
    "    \n",
    "    result = 1 if calTokenSortRatio(question_a, question_b) > 60 else 0\n",
    "    \n",
    "    resulting_df = resulting_df.append({'question1': question_a, 'question2': question_b, 'result': result, 'transcribed_result': result}, ignore_index=True)\n",
    "\n",
    "resulting_df.to_csv('questions-token-sort-full.csv')"
   ]
  },
  {
   "cell_type": "code",
   "execution_count": 4,
   "id": "7c6d64e0",
   "metadata": {},
   "outputs": [
    {
     "data": {
      "text/html": [
       "<div>\n",
       "<style scoped>\n",
       "    .dataframe tbody tr th:only-of-type {\n",
       "        vertical-align: middle;\n",
       "    }\n",
       "\n",
       "    .dataframe tbody tr th {\n",
       "        vertical-align: top;\n",
       "    }\n",
       "\n",
       "    .dataframe thead th {\n",
       "        text-align: right;\n",
       "    }\n",
       "</style>\n",
       "<table border=\"1\" class=\"dataframe\">\n",
       "  <thead>\n",
       "    <tr style=\"text-align: right;\">\n",
       "      <th></th>\n",
       "      <th>question1</th>\n",
       "      <th>question2</th>\n",
       "      <th>result</th>\n",
       "      <th>transcribed_result</th>\n",
       "    </tr>\n",
       "  </thead>\n",
       "  <tbody>\n",
       "    <tr>\n",
       "      <th>0</th>\n",
       "      <td>What is the step by step guide to invest in sh...</td>\n",
       "      <td>What is the step by step guide to invest in sh...</td>\n",
       "      <td>1</td>\n",
       "      <td>1</td>\n",
       "    </tr>\n",
       "    <tr>\n",
       "      <th>1</th>\n",
       "      <td>What is the story of Kohinoor (Koh-i-Noor) Dia...</td>\n",
       "      <td>What would happen if the Indian government sto...</td>\n",
       "      <td>0</td>\n",
       "      <td>0</td>\n",
       "    </tr>\n",
       "    <tr>\n",
       "      <th>2</th>\n",
       "      <td>How can I increase the speed of my internet co...</td>\n",
       "      <td>How can Internet speed be increased by hacking...</td>\n",
       "      <td>0</td>\n",
       "      <td>0</td>\n",
       "    </tr>\n",
       "    <tr>\n",
       "      <th>3</th>\n",
       "      <td>Why am I mentally very lonely? How can I solve...</td>\n",
       "      <td>Find the remainder when [math]23^{24}[/math] i...</td>\n",
       "      <td>0</td>\n",
       "      <td>0</td>\n",
       "    </tr>\n",
       "    <tr>\n",
       "      <th>4</th>\n",
       "      <td>Which one dissolve in water quikly sugar, salt...</td>\n",
       "      <td>Which fish would survive in salt water?</td>\n",
       "      <td>0</td>\n",
       "      <td>0</td>\n",
       "    </tr>\n",
       "    <tr>\n",
       "      <th>...</th>\n",
       "      <td>...</td>\n",
       "      <td>...</td>\n",
       "      <td>...</td>\n",
       "      <td>...</td>\n",
       "    </tr>\n",
       "    <tr>\n",
       "      <th>404346</th>\n",
       "      <td>How many keywords are there in the Racket prog...</td>\n",
       "      <td>How many keywords are there in PERL Programmin...</td>\n",
       "      <td>1</td>\n",
       "      <td>1</td>\n",
       "    </tr>\n",
       "    <tr>\n",
       "      <th>404347</th>\n",
       "      <td>Do you believe there is life after death?</td>\n",
       "      <td>Is it true that there is life after death?</td>\n",
       "      <td>0</td>\n",
       "      <td>0</td>\n",
       "    </tr>\n",
       "    <tr>\n",
       "      <th>404348</th>\n",
       "      <td>What is one coin?</td>\n",
       "      <td>What's this coin?</td>\n",
       "      <td>0</td>\n",
       "      <td>0</td>\n",
       "    </tr>\n",
       "    <tr>\n",
       "      <th>404349</th>\n",
       "      <td>What is the approx annual cost of living while...</td>\n",
       "      <td>I am having little hairfall problem but I want...</td>\n",
       "      <td>0</td>\n",
       "      <td>0</td>\n",
       "    </tr>\n",
       "    <tr>\n",
       "      <th>404350</th>\n",
       "      <td>What is like to have sex with cousin?</td>\n",
       "      <td>What is it like to have sex with your cousin?</td>\n",
       "      <td>1</td>\n",
       "      <td>1</td>\n",
       "    </tr>\n",
       "  </tbody>\n",
       "</table>\n",
       "<p>404351 rows × 4 columns</p>\n",
       "</div>"
      ],
      "text/plain": [
       "                                                question1  \\\n",
       "0       What is the step by step guide to invest in sh...   \n",
       "1       What is the story of Kohinoor (Koh-i-Noor) Dia...   \n",
       "2       How can I increase the speed of my internet co...   \n",
       "3       Why am I mentally very lonely? How can I solve...   \n",
       "4       Which one dissolve in water quikly sugar, salt...   \n",
       "...                                                   ...   \n",
       "404346  How many keywords are there in the Racket prog...   \n",
       "404347          Do you believe there is life after death?   \n",
       "404348                                  What is one coin?   \n",
       "404349  What is the approx annual cost of living while...   \n",
       "404350              What is like to have sex with cousin?   \n",
       "\n",
       "                                                question2 result  \\\n",
       "0       What is the step by step guide to invest in sh...      1   \n",
       "1       What would happen if the Indian government sto...      0   \n",
       "2       How can Internet speed be increased by hacking...      0   \n",
       "3       Find the remainder when [math]23^{24}[/math] i...      0   \n",
       "4                 Which fish would survive in salt water?      0   \n",
       "...                                                   ...    ...   \n",
       "404346  How many keywords are there in PERL Programmin...      1   \n",
       "404347         Is it true that there is life after death?      0   \n",
       "404348                                  What's this coin?      0   \n",
       "404349  I am having little hairfall problem but I want...      0   \n",
       "404350      What is it like to have sex with your cousin?      1   \n",
       "\n",
       "       transcribed_result  \n",
       "0                       1  \n",
       "1                       0  \n",
       "2                       0  \n",
       "3                       0  \n",
       "4                       0  \n",
       "...                   ...  \n",
       "404346                  1  \n",
       "404347                  0  \n",
       "404348                  0  \n",
       "404349                  0  \n",
       "404350                  1  \n",
       "\n",
       "[404351 rows x 4 columns]"
      ]
     },
     "execution_count": 4,
     "metadata": {},
     "output_type": "execute_result"
    }
   ],
   "source": [
    "resulting_df"
   ]
  },
  {
   "cell_type": "code",
   "execution_count": 5,
   "id": "ac575dfa",
   "metadata": {},
   "outputs": [],
   "source": [
    "test_questions = questions.reset_index(drop=True)\n",
    "test_questions['is_match'] = test_questions['is_duplicate'] == resulting_df['transcribed_result']\n",
    "test_questions['is_match'] = test_questions['is_match'].astype(int)\n",
    "\n",
    "test_questions.to_csv('questions-token-sort-with-match.csv')"
   ]
  },
  {
   "cell_type": "code",
   "execution_count": 6,
   "id": "9f313252",
   "metadata": {},
   "outputs": [
    {
     "name": "stdout",
     "output_type": "stream",
     "text": [
      "Percentage of 1s: 65.42%\n"
     ]
    }
   ],
   "source": [
    "count_ones = (test_questions['is_match'] == 1).sum()\n",
    "total_count = len(test_questions['is_match'])\n",
    "percentage_ones = (count_ones / total_count) * 100\n",
    "\n",
    "print(\"Percentage of 1s: {:.2f}%\".format(percentage_ones))"
   ]
  }
 ],
 "metadata": {
  "kernelspec": {
   "display_name": "Python 3 (ipykernel)",
   "language": "python",
   "name": "python3"
  },
  "language_info": {
   "codemirror_mode": {
    "name": "ipython",
    "version": 3
   },
   "file_extension": ".py",
   "mimetype": "text/x-python",
   "name": "python",
   "nbconvert_exporter": "python",
   "pygments_lexer": "ipython3",
   "version": "3.9.10"
  }
 },
 "nbformat": 4,
 "nbformat_minor": 5
}
